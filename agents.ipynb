{
 "cells": [
  {
   "cell_type": "code",
   "execution_count": 1,
   "metadata": {},
   "outputs": [],
   "source": [
    "%load_ext autoreload\n",
    "%autoreload 2"
   ]
  },
  {
   "cell_type": "markdown",
   "metadata": {},
   "source": [
    "# WORKSHOP - LLM-based Agents "
   ]
  },
  {
   "cell_type": "code",
   "execution_count": 2,
   "metadata": {},
   "outputs": [],
   "source": [
    "USER_INSTRUCTIONS = \"Write some tests for the chat.py module'\"\n",
    "# USER_INSTRUCTIONS = \"Document the code found inside the file 'thread.py'\"\n",
    "# USER_INSTRUCTIONS = \"Suggest some code improvements for the codebase.py module'\""
   ]
  },
  {
   "cell_type": "markdown",
   "metadata": {},
   "source": [
    "### Planner agent"
   ]
  },
  {
   "cell_type": "code",
   "execution_count": 3,
   "metadata": {},
   "outputs": [],
   "source": [
    "planner_prompt = \"\"\"\n",
    "You are an LLM agent specialized in writing technical plans for a given task.\n",
    "The steps you write in your plans will be executed by other LLM agents which have to interact with the file system of the user.\n",
    "You should therefore consider steps such as listing files found inside a directory, reading files, writing files, etc.\n",
    "\n",
    "IMPORTANT NOTES:\n",
    "You plan should be as concised as possible, using as little steps as possible and only containing the necessary information.\n",
    "Try not to exceed 4-5 steps.\n",
    "Do not try and execute that plan, just write it down.\n",
    "\n",
    "Plan the following task:\n",
    "\"\"\""
   ]
  },
  {
   "cell_type": "code",
   "execution_count": 5,
   "metadata": {},
   "outputs": [
    {
     "name": "stdout",
     "output_type": "stream",
     "text": [
      "1. **List Files in Directory**: List all files in the directory to locate `chat.py`.\n",
      "2. **Read chat.py**: Read the contents of `chat.py` to understand its functions and classes.\n",
      "3. **Create Test File**: Create a new file named `test_chat.py` in the same directory.\n",
      "4. **Write Tests**: Write unit tests for the functions and classes found in `chat.py` and save them in `test_chat.py`.\n",
      "5. **Verify Test File**: Ensure `test_chat.py` is correctly written and saved."
     ]
    }
   ],
   "source": [
    "from codeas.thread import Thread\n",
    "\n",
    "# build agent\n",
    "planner = Thread(system_prompt=planner_prompt, model=\"gpt-4o\", use_console=False)\n",
    "\n",
    "# add instructions\n",
    "planner.add_message({\"role\": \"user\", \"content\": USER_INSTRUCTIONS})\n",
    "\n",
    "# run agent\n",
    "plan = planner.run()"
   ]
  },
  {
   "cell_type": "markdown",
   "metadata": {},
   "source": [
    "### Tools"
   ]
  },
  {
   "cell_type": "code",
   "execution_count": 6,
   "metadata": {},
   "outputs": [],
   "source": [
    "from codeas import tools"
   ]
  },
  {
   "cell_type": "code",
   "execution_count": 7,
   "metadata": {},
   "outputs": [],
   "source": [
    "# format dict output for better readability\n",
    "import json\n",
    "def print_dict(d):\n",
    "    print(json.dumps(d, indent=4))"
   ]
  },
  {
   "cell_type": "code",
   "execution_count": 8,
   "metadata": {},
   "outputs": [
    {
     "name": "stdout",
     "output_type": "stream",
     "text": [
      "{\n",
      "    \"type\": \"function\",\n",
      "    \"function\": {\n",
      "        \"name\": \"list_files\",\n",
      "        \"description\": \"list all of the files in a given directory\",\n",
      "        \"parameters\": {\n",
      "            \"properties\": {\n",
      "                \"dir_path\": {\n",
      "                    \"description\": \"relative directory path\",\n",
      "                    \"type\": \"string\"\n",
      "                }\n",
      "            },\n",
      "            \"required\": [\n",
      "                \"dir_path\"\n",
      "            ],\n",
      "            \"type\": \"object\"\n",
      "        }\n",
      "    }\n",
      "}\n",
      "{\n",
      "    \"type\": \"function\",\n",
      "    \"function\": {\n",
      "        \"name\": \"read_file\",\n",
      "        \"description\": \"reads the content of a file\",\n",
      "        \"parameters\": {\n",
      "            \"properties\": {\n",
      "                \"path\": {\n",
      "                    \"description\": \"relative file path, including file name\",\n",
      "                    \"type\": \"string\"\n",
      "                },\n",
      "                \"line_start\": {\n",
      "                    \"default\": 1,\n",
      "                    \"description\": \"start line to read\",\n",
      "                    \"type\": \"integer\"\n",
      "                },\n",
      "                \"line_end\": {\n",
      "                    \"default\": -1,\n",
      "                    \"description\": \"end line to read\",\n",
      "                    \"type\": \"integer\"\n",
      "                },\n",
      "                \"structure_only\": {\n",
      "                    \"default\": false,\n",
      "                    \"description\": \"if True, uses only the code structure of the file\",\n",
      "                    \"type\": \"boolean\"\n",
      "                }\n",
      "            },\n",
      "            \"required\": [\n",
      "                \"path\"\n",
      "            ],\n",
      "            \"type\": \"object\"\n",
      "        }\n",
      "    }\n",
      "}\n",
      "{\n",
      "    \"type\": \"function\",\n",
      "    \"function\": {\n",
      "        \"name\": \"create_file\",\n",
      "        \"description\": \"creates a new file with the given content\",\n",
      "        \"parameters\": {\n",
      "            \"properties\": {\n",
      "                \"path\": {\n",
      "                    \"description\": \"relative file path, including file name\",\n",
      "                    \"type\": \"string\"\n",
      "                },\n",
      "                \"content\": {\n",
      "                    \"description\": \"file content\",\n",
      "                    \"type\": \"string\"\n",
      "                },\n",
      "                \"append\": {\n",
      "                    \"default\": false,\n",
      "                    \"description\": \"if True and file exists, appends content to the file\",\n",
      "                    \"type\": \"boolean\"\n",
      "                }\n",
      "            },\n",
      "            \"required\": [\n",
      "                \"path\",\n",
      "                \"content\"\n",
      "            ],\n",
      "            \"type\": \"object\"\n",
      "        }\n",
      "    }\n",
      "}\n"
     ]
    }
   ],
   "source": [
    "for schema in tools.get_schemas([tools.list_files, tools.read_file, tools.create_file]):\n",
    "    print_dict(schema)"
   ]
  },
  {
   "cell_type": "markdown",
   "metadata": {},
   "source": [
    "### Engineer agent"
   ]
  },
  {
   "cell_type": "code",
   "execution_count": 10,
   "metadata": {},
   "outputs": [],
   "source": [
    "engineer_prompt = \"\"\"\n",
    "You are a senior software engineer who needs to fulfill a technical task.\n",
    "You will also be provided with a technical plan that has been designed to fulfill this task.\n",
    "You can interact with the file system using the tools made available to you such as listing, reading and writing files.\n",
    "Only use these tools when necessary.\n",
    "\n",
    "Here is the technical task and plan to follow:\n",
    "\"\"\".strip()"
   ]
  },
  {
   "cell_type": "code",
   "execution_count": 11,
   "metadata": {},
   "outputs": [
    {
     "data": {
      "text/html": [
       "<pre style=\"white-space:pre;overflow-x:auto;line-height:normal;font-family:Menlo,'DejaVu Sans Mono',consolas,'Courier New',monospace\"><span style=\"font-weight: bold\">{</span>\n",
       "<span style=\"color: #7fbf7f; text-decoration-color: #7fbf7f\">│   </span><span style=\"color: #008000; text-decoration-color: #008000\">'role'</span>: <span style=\"color: #008000; text-decoration-color: #008000\">'assistant'</span>,\n",
       "<span style=\"color: #7fbf7f; text-decoration-color: #7fbf7f\">│   </span><span style=\"color: #008000; text-decoration-color: #008000\">'content'</span>: <span style=\"color: #800080; text-decoration-color: #800080; font-style: italic\">None</span>,\n",
       "<span style=\"color: #7fbf7f; text-decoration-color: #7fbf7f\">│   </span><span style=\"color: #008000; text-decoration-color: #008000\">'tool_calls'</span>: <span style=\"font-weight: bold\">[</span>\n",
       "<span style=\"color: #7fbf7f; text-decoration-color: #7fbf7f\">│   │   </span><span style=\"font-weight: bold\">{</span>\n",
       "<span style=\"color: #7fbf7f; text-decoration-color: #7fbf7f\">│   │   │   </span><span style=\"color: #008000; text-decoration-color: #008000\">'id'</span>: <span style=\"color: #008000; text-decoration-color: #008000\">'call_vd4M4nC8OD9rLrgZk7hXhlpC'</span>,\n",
       "<span style=\"color: #7fbf7f; text-decoration-color: #7fbf7f\">│   │   │   </span><span style=\"color: #008000; text-decoration-color: #008000\">'type'</span>: <span style=\"color: #008000; text-decoration-color: #008000\">'function'</span>,\n",
       "<span style=\"color: #7fbf7f; text-decoration-color: #7fbf7f\">│   │   │   </span><span style=\"color: #008000; text-decoration-color: #008000\">'function'</span>: <span style=\"font-weight: bold\">{</span>\n",
       "<span style=\"color: #7fbf7f; text-decoration-color: #7fbf7f\">│   │   │   │   </span><span style=\"color: #008000; text-decoration-color: #008000\">'name'</span>: <span style=\"color: #008000; text-decoration-color: #008000\">'list_files'</span>,\n",
       "<span style=\"color: #7fbf7f; text-decoration-color: #7fbf7f\">│   │   │   │   </span><span style=\"color: #008000; text-decoration-color: #008000\">'arguments'</span>: <span style=\"color: #008000; text-decoration-color: #008000\">'{\"dir_path\":\"./\"}'</span>\n",
       "<span style=\"color: #7fbf7f; text-decoration-color: #7fbf7f\">│   │   │   </span><span style=\"font-weight: bold\">}</span>\n",
       "<span style=\"color: #7fbf7f; text-decoration-color: #7fbf7f\">│   │   </span><span style=\"font-weight: bold\">}</span>\n",
       "<span style=\"color: #7fbf7f; text-decoration-color: #7fbf7f\">│   </span><span style=\"font-weight: bold\">]</span>\n",
       "<span style=\"font-weight: bold\">}</span>\n",
       "</pre>\n"
      ],
      "text/plain": [
       "\u001b[1m{\u001b[0m\n",
       "\u001b[2;32m│   \u001b[0m\u001b[32m'role'\u001b[0m: \u001b[32m'assistant'\u001b[0m,\n",
       "\u001b[2;32m│   \u001b[0m\u001b[32m'content'\u001b[0m: \u001b[3;35mNone\u001b[0m,\n",
       "\u001b[2;32m│   \u001b[0m\u001b[32m'tool_calls'\u001b[0m: \u001b[1m[\u001b[0m\n",
       "\u001b[2;32m│   │   \u001b[0m\u001b[1m{\u001b[0m\n",
       "\u001b[2;32m│   │   │   \u001b[0m\u001b[32m'id'\u001b[0m: \u001b[32m'call_vd4M4nC8OD9rLrgZk7hXhlpC'\u001b[0m,\n",
       "\u001b[2;32m│   │   │   \u001b[0m\u001b[32m'type'\u001b[0m: \u001b[32m'function'\u001b[0m,\n",
       "\u001b[2;32m│   │   │   \u001b[0m\u001b[32m'function'\u001b[0m: \u001b[1m{\u001b[0m\n",
       "\u001b[2;32m│   │   │   │   \u001b[0m\u001b[32m'name'\u001b[0m: \u001b[32m'list_files'\u001b[0m,\n",
       "\u001b[2;32m│   │   │   │   \u001b[0m\u001b[32m'arguments'\u001b[0m: \u001b[32m'\u001b[0m\u001b[32m{\u001b[0m\u001b[32m\"dir_path\":\"./\"\u001b[0m\u001b[32m}\u001b[0m\u001b[32m'\u001b[0m\n",
       "\u001b[2;32m│   │   │   \u001b[0m\u001b[1m}\u001b[0m\n",
       "\u001b[2;32m│   │   \u001b[0m\u001b[1m}\u001b[0m\n",
       "\u001b[2;32m│   \u001b[0m\u001b[1m]\u001b[0m\n",
       "\u001b[1m}\u001b[0m\n"
      ]
     },
     "metadata": {},
     "output_type": "display_data"
    }
   ],
   "source": [
    "from codeas.thread import Thread\n",
    "\n",
    "# build agent\n",
    "engineer = Thread(system_prompt=engineer_prompt, model=\"gpt-4o\", use_console=False,\n",
    "    tools=[tools.list_files, tools.read_file, tools.create_file]\n",
    ")\n",
    "# add instructions\n",
    "engineer.add_message({\"role\": \"user\", \"content\": f\"TASK:\\n\\n{USER_INSTRUCTIONS}\"})\n",
    "\n",
    "# add plan to the conversation\n",
    "engineer.add_message({\"role\": \"user\", \"content\": f\"PLAN:\\n\\n{plan['content']}\"})\n",
    "\n",
    "# run agent\n",
    "action1 = engineer.run()"
   ]
  },
  {
   "cell_type": "code",
   "execution_count": 13,
   "metadata": {},
   "outputs": [
    {
     "name": "stdout",
     "output_type": "stream",
     "text": [
      "Calling: list_files({\"dir_path\":\"./\"})\n",
      ">>> Call successful\n",
      "\n",
      "['tests/test_codebase.py', 'tests/test_request.py', 'tests/utils.py', 'tests/test_assistant.py', 'examples/ml_repo_s/src/ml_pipeline.py', 'examples/ml_repo_xs/src/predictor.py', 'examples/ml_repo_xs/src/pipeline.py', 'examples/java_repo_s/src/MainApplication.java', 'examples/java_repo_s/src/StringUtil.java', 'examples/java_repo_s/src/UserEntity.java', 'examples/js_repo_s/src/ClassA.js', 'examples/js_repo_s/src/ClassC.js', 'examples/js_repo_s/src/ClassB.js', 'examples/ml_repo_m/main.py', 'examples/ml_repo_m/src/predictor.py', 'examples/ml_repo_m/src/processor.py', 'examples/ml_repo_m/src/evaluator.py', 'debug/dd.py', 'src/codeas/thread.py', 'src/codeas/configs.py', 'src/codeas/terminal.py', 'src/codeas/tools.py', 'src/codeas/codebase.py', 'src/codeas/agents.py', 'src/codeas/chat.py', 'src/codeas/utils.py', 'src/codeas/commands.py', 'src/codeag/pseudocode.py', 'src/codeag/core/agents/planner.py', 'src/codeag/core/agents/parser.py', 'src/codeag/core/agents/generator.py', 'src/codeag/core/agents/search.py', 'src/codeag/core/agents/writer.py', 'src/codeag/core/agents/editor.py', 'src/codeag/core/utils/db.py', 'src/codeag/core/configs/prompts.py']\n"
     ]
    }
   ],
   "source": [
    "for call in engineer.run_calls(action1[\"tool_calls\"]):\n",
    "    print(call[\"output\"])"
   ]
  },
  {
   "cell_type": "code",
   "execution_count": 14,
   "metadata": {},
   "outputs": [],
   "source": [
    "# add action to the conversation\n",
    "engineer.add_message(action1)"
   ]
  },
  {
   "cell_type": "code",
   "execution_count": 15,
   "metadata": {},
   "outputs": [
    {
     "name": "stdout",
     "output_type": "stream",
     "text": [
      "Calling: list_files({\"dir_path\":\"./\"})\n",
      ">>> Call successful\n",
      "\n"
     ]
    }
   ],
   "source": [
    "# add action output to the conversation\n",
    "engineer.add_tool_responses(action1[\"tool_calls\"])"
   ]
  },
  {
   "cell_type": "code",
   "execution_count": 16,
   "metadata": {},
   "outputs": [
    {
     "data": {
      "text/plain": [
       "[{'role': 'system',\n",
       "  'content': 'You are a senior software engineer who needs to fulfill a technical task.\\nYou will also be provided with a technical plan that has been designed to fulfill this task.\\nYou can interact with the file system using the tools made available to you such as listing, reading and writing files.\\nOnly use these tools when necessary.\\n\\nHere is the technical task and plan to follow:'},\n",
       " {'role': 'user',\n",
       "  'content': \"TASK:\\n\\nWrite some tests for the chat.py module'\"},\n",
       " {'role': 'user',\n",
       "  'content': 'PLAN:\\n\\n1. **List Files in Directory**: List all files in the directory to locate `chat.py`.\\n2. **Read chat.py**: Read the contents of `chat.py` to understand its functions and classes.\\n3. **Create Test File**: Create a new file named `test_chat.py` in the same directory.\\n4. **Write Tests**: Write unit tests for the functions and classes found in `chat.py` and save them in `test_chat.py`.\\n5. **Verify Test File**: Ensure `test_chat.py` is correctly written and saved.'},\n",
       " {'role': 'assistant',\n",
       "  'content': None,\n",
       "  'tool_calls': [{'id': 'call_vd4M4nC8OD9rLrgZk7hXhlpC',\n",
       "    'type': 'function',\n",
       "    'function': {'name': 'list_files', 'arguments': '{\"dir_path\":\"./\"}'}}]},\n",
       " {'role': 'tool',\n",
       "  'tool_call_id': 'call_vd4M4nC8OD9rLrgZk7hXhlpC',\n",
       "  'content': \"['tests/test_codebase.py', 'tests/test_request.py', 'tests/utils.py', 'tests/test_assistant.py', 'examples/ml_repo_s/src/ml_pipeline.py', 'examples/ml_repo_xs/src/predictor.py', 'examples/ml_repo_xs/src/pipeline.py', 'examples/java_repo_s/src/MainApplication.java', 'examples/java_repo_s/src/StringUtil.java', 'examples/java_repo_s/src/UserEntity.java', 'examples/js_repo_s/src/ClassA.js', 'examples/js_repo_s/src/ClassC.js', 'examples/js_repo_s/src/ClassB.js', 'examples/ml_repo_m/main.py', 'examples/ml_repo_m/src/predictor.py', 'examples/ml_repo_m/src/processor.py', 'examples/ml_repo_m/src/evaluator.py', 'debug/dd.py', 'src/codeas/thread.py', 'src/codeas/configs.py', 'src/codeas/terminal.py', 'src/codeas/tools.py', 'src/codeas/codebase.py', 'src/codeas/agents.py', 'src/codeas/chat.py', 'src/codeas/utils.py', 'src/codeas/commands.py', 'src/codeag/pseudocode.py', 'src/codeag/core/agents/planner.py', 'src/codeag/core/agents/parser.py', 'src/codeag/core/agents/generator.py', 'src/codeag/core/agents/search.py', 'src/codeag/core/agents/writer.py', 'src/codeag/core/agents/editor.py', 'src/codeag/core/utils/db.py', 'src/codeag/core/configs/prompts.py']\"}]"
      ]
     },
     "execution_count": 16,
     "metadata": {},
     "output_type": "execute_result"
    }
   ],
   "source": [
    "# view execution trajectory\n",
    "engineer._messages"
   ]
  },
  {
   "cell_type": "markdown",
   "metadata": {},
   "source": [
    "# Reasoning"
   ]
  },
  {
   "cell_type": "code",
   "execution_count": 17,
   "metadata": {},
   "outputs": [],
   "source": [
    "reasoner_prompt = \"\"\"\n",
    "You are an LLM agent specialized in reasoning about the actions taken by other LLM agents in order to fulfill a given task.\n",
    "\n",
    "Here is the task at hand, the plan to follow and the current execution trajectory:\n",
    "\"\"\""
   ]
  },
  {
   "cell_type": "code",
   "execution_count": 18,
   "metadata": {},
   "outputs": [],
   "source": [
    "# build agent\n",
    "reasoner = Thread(system_prompt=reasoner_prompt, model=\"gpt-4o\", use_console=False)\n",
    "# add execution trajectory\n",
    "reasoner._messages.extend(engineer._messages[1:])"
   ]
  },
  {
   "cell_type": "code",
   "execution_count": 19,
   "metadata": {},
   "outputs": [],
   "source": [
    "# add instructions\n",
    "reasoner_instructions = \"\"\"\n",
    "Write some observation of the last action taken by the agent and what the next action should be. \n",
    "Format it as ### Observation\\n[your text here] ### Proposed next action\\n[your text here].\n",
    "If the full request seems to have been fulfilled, return ### FINISHED.\n",
    "\"\"\"\n",
    "reasoner.add_message({\"role\": \"user\", \"content\": reasoner_instructions})"
   ]
  },
  {
   "cell_type": "code",
   "execution_count": 20,
   "metadata": {},
   "outputs": [
    {
     "name": "stdout",
     "output_type": "stream",
     "text": [
      "### Observation\n",
      "The agent successfully listed all files in the directory and located `chat.py` in the `src/codeas` directory.\n",
      "\n",
      "### Proposed next action\n",
      "Read the contents of `src/codeas/chat.py` to understand its functions and classes."
     ]
    }
   ],
   "source": [
    "# run agent\n",
    "observation1 = reasoner.run()"
   ]
  },
  {
   "cell_type": "code",
   "execution_count": 21,
   "metadata": {},
   "outputs": [],
   "source": [
    "engineer.add_message(observation1)"
   ]
  },
  {
   "cell_type": "code",
   "execution_count": 22,
   "metadata": {},
   "outputs": [
    {
     "data": {
      "text/plain": [
       "[{'role': 'system',\n",
       "  'content': 'You are a senior software engineer who needs to fulfill a technical task.\\nYou will also be provided with a technical plan that has been designed to fulfill this task.\\nYou can interact with the file system using the tools made available to you such as listing, reading and writing files.\\nOnly use these tools when necessary.\\n\\nHere is the technical task and plan to follow:'},\n",
       " {'role': 'user',\n",
       "  'content': \"TASK:\\n\\nWrite some tests for the chat.py module'\"},\n",
       " {'role': 'user',\n",
       "  'content': 'PLAN:\\n\\n1. **List Files in Directory**: List all files in the directory to locate `chat.py`.\\n2. **Read chat.py**: Read the contents of `chat.py` to understand its functions and classes.\\n3. **Create Test File**: Create a new file named `test_chat.py` in the same directory.\\n4. **Write Tests**: Write unit tests for the functions and classes found in `chat.py` and save them in `test_chat.py`.\\n5. **Verify Test File**: Ensure `test_chat.py` is correctly written and saved.'},\n",
       " {'role': 'assistant',\n",
       "  'content': None,\n",
       "  'tool_calls': [{'id': 'call_vd4M4nC8OD9rLrgZk7hXhlpC',\n",
       "    'type': 'function',\n",
       "    'function': {'name': 'list_files', 'arguments': '{\"dir_path\":\"./\"}'}}]},\n",
       " {'role': 'tool',\n",
       "  'tool_call_id': 'call_vd4M4nC8OD9rLrgZk7hXhlpC',\n",
       "  'content': \"['tests/test_codebase.py', 'tests/test_request.py', 'tests/utils.py', 'tests/test_assistant.py', 'examples/ml_repo_s/src/ml_pipeline.py', 'examples/ml_repo_xs/src/predictor.py', 'examples/ml_repo_xs/src/pipeline.py', 'examples/java_repo_s/src/MainApplication.java', 'examples/java_repo_s/src/StringUtil.java', 'examples/java_repo_s/src/UserEntity.java', 'examples/js_repo_s/src/ClassA.js', 'examples/js_repo_s/src/ClassC.js', 'examples/js_repo_s/src/ClassB.js', 'examples/ml_repo_m/main.py', 'examples/ml_repo_m/src/predictor.py', 'examples/ml_repo_m/src/processor.py', 'examples/ml_repo_m/src/evaluator.py', 'debug/dd.py', 'src/codeas/thread.py', 'src/codeas/configs.py', 'src/codeas/terminal.py', 'src/codeas/tools.py', 'src/codeas/codebase.py', 'src/codeas/agents.py', 'src/codeas/chat.py', 'src/codeas/utils.py', 'src/codeas/commands.py', 'src/codeag/pseudocode.py', 'src/codeag/core/agents/planner.py', 'src/codeag/core/agents/parser.py', 'src/codeag/core/agents/generator.py', 'src/codeag/core/agents/search.py', 'src/codeag/core/agents/writer.py', 'src/codeag/core/agents/editor.py', 'src/codeag/core/utils/db.py', 'src/codeag/core/configs/prompts.py']\"},\n",
       " {'role': 'assistant',\n",
       "  'content': '### Observation\\nThe agent successfully listed all files in the directory and located `chat.py` in the `src/codeas` directory.\\n\\n### Proposed next action\\nRead the contents of `src/codeas/chat.py` to understand its functions and classes.'}]"
      ]
     },
     "execution_count": 22,
     "metadata": {},
     "output_type": "execute_result"
    }
   ],
   "source": [
    "# view trajectory\n",
    "engineer._messages"
   ]
  },
  {
   "cell_type": "code",
   "execution_count": 23,
   "metadata": {},
   "outputs": [
    {
     "data": {
      "text/html": [
       "<pre style=\"white-space:pre;overflow-x:auto;line-height:normal;font-family:Menlo,'DejaVu Sans Mono',consolas,'Courier New',monospace\"><span style=\"font-weight: bold\">{</span>\n",
       "<span style=\"color: #7fbf7f; text-decoration-color: #7fbf7f\">│   </span><span style=\"color: #008000; text-decoration-color: #008000\">'role'</span>: <span style=\"color: #008000; text-decoration-color: #008000\">'assistant'</span>,\n",
       "<span style=\"color: #7fbf7f; text-decoration-color: #7fbf7f\">│   </span><span style=\"color: #008000; text-decoration-color: #008000\">'content'</span>: <span style=\"color: #800080; text-decoration-color: #800080; font-style: italic\">None</span>,\n",
       "<span style=\"color: #7fbf7f; text-decoration-color: #7fbf7f\">│   </span><span style=\"color: #008000; text-decoration-color: #008000\">'tool_calls'</span>: <span style=\"font-weight: bold\">[</span>\n",
       "<span style=\"color: #7fbf7f; text-decoration-color: #7fbf7f\">│   │   </span><span style=\"font-weight: bold\">{</span>\n",
       "<span style=\"color: #7fbf7f; text-decoration-color: #7fbf7f\">│   │   │   </span><span style=\"color: #008000; text-decoration-color: #008000\">'id'</span>: <span style=\"color: #008000; text-decoration-color: #008000\">'call_TVcfT0s3OLOpiJiAJTz1xFky'</span>,\n",
       "<span style=\"color: #7fbf7f; text-decoration-color: #7fbf7f\">│   │   │   </span><span style=\"color: #008000; text-decoration-color: #008000\">'type'</span>: <span style=\"color: #008000; text-decoration-color: #008000\">'function'</span>,\n",
       "<span style=\"color: #7fbf7f; text-decoration-color: #7fbf7f\">│   │   │   </span><span style=\"color: #008000; text-decoration-color: #008000\">'function'</span>: <span style=\"font-weight: bold\">{</span>\n",
       "<span style=\"color: #7fbf7f; text-decoration-color: #7fbf7f\">│   │   │   │   </span><span style=\"color: #008000; text-decoration-color: #008000\">'name'</span>: <span style=\"color: #008000; text-decoration-color: #008000\">'read_file'</span>,\n",
       "<span style=\"color: #7fbf7f; text-decoration-color: #7fbf7f\">│   │   │   │   </span><span style=\"color: #008000; text-decoration-color: #008000\">'arguments'</span>: <span style=\"color: #008000; text-decoration-color: #008000\">'{\"path\":\"src/codeas/chat.py\"}'</span>\n",
       "<span style=\"color: #7fbf7f; text-decoration-color: #7fbf7f\">│   │   │   </span><span style=\"font-weight: bold\">}</span>\n",
       "<span style=\"color: #7fbf7f; text-decoration-color: #7fbf7f\">│   │   </span><span style=\"font-weight: bold\">}</span>\n",
       "<span style=\"color: #7fbf7f; text-decoration-color: #7fbf7f\">│   </span><span style=\"font-weight: bold\">]</span>\n",
       "<span style=\"font-weight: bold\">}</span>\n",
       "</pre>\n"
      ],
      "text/plain": [
       "\u001b[1m{\u001b[0m\n",
       "\u001b[2;32m│   \u001b[0m\u001b[32m'role'\u001b[0m: \u001b[32m'assistant'\u001b[0m,\n",
       "\u001b[2;32m│   \u001b[0m\u001b[32m'content'\u001b[0m: \u001b[3;35mNone\u001b[0m,\n",
       "\u001b[2;32m│   \u001b[0m\u001b[32m'tool_calls'\u001b[0m: \u001b[1m[\u001b[0m\n",
       "\u001b[2;32m│   │   \u001b[0m\u001b[1m{\u001b[0m\n",
       "\u001b[2;32m│   │   │   \u001b[0m\u001b[32m'id'\u001b[0m: \u001b[32m'call_TVcfT0s3OLOpiJiAJTz1xFky'\u001b[0m,\n",
       "\u001b[2;32m│   │   │   \u001b[0m\u001b[32m'type'\u001b[0m: \u001b[32m'function'\u001b[0m,\n",
       "\u001b[2;32m│   │   │   \u001b[0m\u001b[32m'function'\u001b[0m: \u001b[1m{\u001b[0m\n",
       "\u001b[2;32m│   │   │   │   \u001b[0m\u001b[32m'name'\u001b[0m: \u001b[32m'read_file'\u001b[0m,\n",
       "\u001b[2;32m│   │   │   │   \u001b[0m\u001b[32m'arguments'\u001b[0m: \u001b[32m'\u001b[0m\u001b[32m{\u001b[0m\u001b[32m\"path\":\"src/codeas/chat.py\"\u001b[0m\u001b[32m}\u001b[0m\u001b[32m'\u001b[0m\n",
       "\u001b[2;32m│   │   │   \u001b[0m\u001b[1m}\u001b[0m\n",
       "\u001b[2;32m│   │   \u001b[0m\u001b[1m}\u001b[0m\n",
       "\u001b[2;32m│   \u001b[0m\u001b[1m]\u001b[0m\n",
       "\u001b[1m}\u001b[0m\n"
      ]
     },
     "metadata": {},
     "output_type": "display_data"
    }
   ],
   "source": [
    "# execute next action\n",
    "action2 = engineer.run()"
   ]
  },
  {
   "cell_type": "markdown",
   "metadata": {},
   "source": [
    "# Reflection"
   ]
  },
  {
   "cell_type": "code",
   "execution_count": 24,
   "metadata": {},
   "outputs": [],
   "source": [
    "reflection_prompt = \"\"\"\n",
    "You are an LLM agent specialized in reflecting on the actions taken by other LLM agents given some observations.\n",
    "Here is the observation and action taken as a result of it:\n",
    "\"\"\""
   ]
  },
  {
   "cell_type": "code",
   "execution_count": 25,
   "metadata": {},
   "outputs": [
    {
     "name": "stdout",
     "output_type": "stream",
     "text": [
      "Calling: read_file({\"path\":\"src/codeas/chat.py\"})\n",
      ">>> Call successful\n",
      "\n"
     ]
    }
   ],
   "source": [
    "# build agent\n",
    "reflection = Thread(system_prompt=reflection_prompt, model=\"gpt-4o\", use_console=False,\n",
    "    tools=[tools.read_file] # workaround only to add the tool response to the thread\n",
    ")\n",
    "# add observation, action and tool responses to the conversation\n",
    "reflection.add_message(observation1)\n",
    "reflection.add_message(action2)\n",
    "reflection.add_tool_responses(action2[\"tool_calls\"])"
   ]
  },
  {
   "cell_type": "code",
   "execution_count": 26,
   "metadata": {},
   "outputs": [
    {
     "name": "stdout",
     "output_type": "stream",
     "text": [
      "### Correct action taken:\n",
      "Yes\n",
      "\n",
      "### Feedback:\n",
      "The agent correctly identified the need to read the contents of `src/codeas/chat.py` to understand its functions and classes. This action is essential for gaining insights into the structure and functionality of the `Chat` class, which includes methods for handling messages, running agents, and executing commands. The information retrieved will be valuable for any subsequent tasks that involve interacting with or modifying the `Chat` class."
     ]
    }
   ],
   "source": [
    "# add agent instructions\n",
    "reflection_instructions = \"\"\"\n",
    "Return some feedback on the action taken by the agent in the following format:\n",
    "### Correct action taken: \\n yes/no\n",
    "### Feedback: \\n [your feedback here]\n",
    "\"\"\".strip()\n",
    "reflection.add_message({\"role\": \"user\",\"content\": reflection_instructions})\n",
    "\n",
    "# run agent\n",
    "feedback1 = reflection.run()"
   ]
  },
  {
   "cell_type": "markdown",
   "metadata": {},
   "source": [
    "### Full application (PSEUDOCODE)"
   ]
  },
  {
   "cell_type": "code",
   "execution_count": null,
   "metadata": {},
   "outputs": [],
   "source": [
    "# define a plan for the task\n",
    "plan = planner.run()\n",
    "\n",
    "# iterate over the plan's steps until the task is finished\n",
    "FINISHED = False\n",
    "while FINISHED is False:\n",
    "    # execute the plan's steps\n",
    "    action = engineer.run()\n",
    "    # check that the action is correct\n",
    "    feedback = reflection.run()\n",
    "    if feedback == \"positive\":\n",
    "        # if feedback is positive, reason about what the next step should be\n",
    "        observation = reasoner.run()\n",
    "        if observation == \"finished\":\n",
    "            # if no more steps are needed, finish the task\n",
    "            FINISHED = True\n",
    "        else:\n",
    "            # if more steps are needed, add the observation and run the next step\n",
    "            engineer.add_message(observation)\n",
    "    else:\n",
    "        # if feedback is negative, add the feedback and run the same step again\n",
    "        engineer.add_message(feedback)"
   ]
  }
 ],
 "metadata": {
  "kernelspec": {
   "display_name": "codeas",
   "language": "python",
   "name": "python3"
  },
  "language_info": {
   "codemirror_mode": {
    "name": "ipython",
    "version": 3
   },
   "file_extension": ".py",
   "mimetype": "text/x-python",
   "name": "python",
   "nbconvert_exporter": "python",
   "pygments_lexer": "ipython3",
   "version": "3.11.5"
  }
 },
 "nbformat": 4,
 "nbformat_minor": 2
}
