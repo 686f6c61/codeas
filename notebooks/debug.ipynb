{
 "cells": [
  {
   "cell_type": "code",
   "execution_count": 19,
   "metadata": {},
   "outputs": [
    {
     "name": "stdout",
     "output_type": "stream",
     "text": [
      "The autoreload extension is already loaded. To reload it, use:\n",
      "  %reload_ext autoreload\n"
     ]
    }
   ],
   "source": [
    "%load_ext autoreload\n",
    "%autoreload 2"
   ]
  },
  {
   "cell_type": "code",
   "execution_count": null,
   "metadata": {},
   "outputs": [],
   "source": [
    "from divergen.codebase import Codebase\n",
    "\n",
    "codebase = Codebase()"
   ]
  },
  {
   "cell_type": "code",
   "execution_count": 11,
   "metadata": {},
   "outputs": [],
   "source": [
    "from divergen.codebase_manager import CodebaseManager"
   ]
  },
  {
   "cell_type": "code",
   "execution_count": 16,
   "metadata": {},
   "outputs": [],
   "source": [
    "codebase = CodebaseManager(source_dir=\"../src-test\")\n",
    "codebase.parse_modules()"
   ]
  },
  {
   "cell_type": "code",
   "execution_count": 20,
   "metadata": {},
   "outputs": [],
   "source": [
    "module = codebase._modules['../src-test/test.py']"
   ]
  },
  {
   "cell_type": "code",
   "execution_count": 58,
   "metadata": {},
   "outputs": [],
   "source": [
    "import ast\n",
    "\n",
    "with open('../src-test/test.py') as source:\n",
    "    file_content = source.read()\n",
    "    # content = ast.parse(file_content)"
   ]
  },
  {
   "cell_type": "code",
   "execution_count": 59,
   "metadata": {},
   "outputs": [],
   "source": [
    "content = ast.parse(file_content)"
   ]
  },
  {
   "cell_type": "code",
   "execution_count": 63,
   "metadata": {},
   "outputs": [],
   "source": [
    "func_def = content.body[0].body[0]"
   ]
  },
  {
   "cell_type": "code",
   "execution_count": 72,
   "metadata": {},
   "outputs": [
    {
     "data": {
      "text/plain": [
       "<ast.Module at 0x16958b0d0>"
      ]
     },
     "execution_count": 72,
     "metadata": {},
     "output_type": "execute_result"
    }
   ],
   "source": [
    "ast.parse(s)"
   ]
  },
  {
   "cell_type": "code",
   "execution_count": 80,
   "metadata": {},
   "outputs": [
    {
     "data": {
      "text/plain": [
       "'ok'"
      ]
     },
     "execution_count": 80,
     "metadata": {},
     "output_type": "execute_result"
    }
   ],
   "source": [
    "s = \"\"\"\n",
    "'''ok'''\n",
    "\n",
    "class Test:\n",
    "    def test():\n",
    "        '''ok'''\n",
    "        pass\n",
    "\"\"\"\n",
    "\n",
    "ast.get_docstring()"
   ]
  },
  {
   "cell_type": "code",
   "execution_count": 81,
   "metadata": {},
   "outputs": [],
   "source": [
    "module = ast.parse(s)"
   ]
  },
  {
   "cell_type": "code",
   "execution_count": 85,
   "metadata": {},
   "outputs": [],
   "source": [
    "classes = [module.body[1]]"
   ]
  },
  {
   "cell_type": "code",
   "execution_count": 87,
   "metadata": {},
   "outputs": [
    {
     "data": {
      "text/plain": [
       "<ast.ClassDef at 0x169589270>"
      ]
     },
     "execution_count": 87,
     "metadata": {},
     "output_type": "execute_result"
    }
   ],
   "source": [
    "ast.FunctionDef()"
   ]
  },
  {
   "cell_type": "code",
   "execution_count": 65,
   "metadata": {},
   "outputs": [
    {
     "name": "stdout",
     "output_type": "stream",
     "text": [
      "def hello(self):\n",
      "    \"\"\"Docstring\"\"\"\n",
      "    print('hello')\n"
     ]
    }
   ],
   "source": [
    "print(ast.unparse(func_def))"
   ]
  },
  {
   "cell_type": "code",
   "execution_count": 68,
   "metadata": {},
   "outputs": [],
   "source": [
    "def remove_docstring(el: ast.FunctionDef):\n",
    "    if ast.get_docstring(el) is not None:\n",
    "        el.body.pop(0)\n",
    "        \n",
    "remove_docstring(func_def)"
   ]
  },
  {
   "cell_type": "code",
   "execution_count": 69,
   "metadata": {},
   "outputs": [
    {
     "name": "stdout",
     "output_type": "stream",
     "text": [
      "def hello(self):\n",
      "    print('hello')\n"
     ]
    }
   ],
   "source": [
    "print(ast.unparse(func_def))"
   ]
  },
  {
   "cell_type": "code",
   "execution_count": 54,
   "metadata": {},
   "outputs": [],
   "source": [
    "docstring_node = ast.Expr(value=ast.Str(s=\"test docstring\"))\n",
    "func_def.body = [docstring_node] + func_def.body"
   ]
  },
  {
   "cell_type": "code",
   "execution_count": 57,
   "metadata": {},
   "outputs": [
    {
     "name": "stdout",
     "output_type": "stream",
     "text": [
      "'test docstring'\n",
      "'Docstring'\n",
      "print('hello')\n"
     ]
    }
   ],
   "source": [
    "print(ast.unparse(func_def.body))"
   ]
  },
  {
   "cell_type": "code",
   "execution_count": 40,
   "metadata": {},
   "outputs": [],
   "source": [
    "code = ast.unparse(content)"
   ]
  },
  {
   "cell_type": "code",
   "execution_count": 41,
   "metadata": {},
   "outputs": [
    {
     "name": "stdout",
     "output_type": "stream",
     "text": [
      "class Test:\n",
      "\n",
      "    def hello(self):\n",
      "        print('hello')\n"
     ]
    }
   ],
   "source": [
    "print(code)"
   ]
  },
  {
   "cell_type": "code",
   "execution_count": null,
   "metadata": {},
   "outputs": [],
   "source": [
    "ast.get_docstring()"
   ]
  },
  {
   "cell_type": "code",
   "execution_count": 22,
   "metadata": {},
   "outputs": [
    {
     "ename": "AttributeError",
     "evalue": "'str' object has no attribute '_fields'",
     "output_type": "error",
     "traceback": [
      "\u001b[0;31m---------------------------------------------------------------------------\u001b[0m",
      "\u001b[0;31mAttributeError\u001b[0m                            Traceback (most recent call last)",
      "\u001b[1;32m/Users/manuelrenner/repos/divergen/notebooks/debug.ipynb Cell 5\u001b[0m line \u001b[0;36m3\n\u001b[1;32m      <a href='vscode-notebook-cell:/Users/manuelrenner/repos/divergen/notebooks/debug.ipynb#X51sZmlsZQ%3D%3D?line=0'>1</a>\u001b[0m \u001b[39mimport\u001b[39;00m \u001b[39mast\u001b[39;00m\n\u001b[0;32m----> <a href='vscode-notebook-cell:/Users/manuelrenner/repos/divergen/notebooks/debug.ipynb#X51sZmlsZQ%3D%3D?line=2'>3</a>\u001b[0m ast\u001b[39m.\u001b[39;49munparse(module\u001b[39m.\u001b[39;49msource_code)\n",
      "File \u001b[0;32m/opt/homebrew/Caskroom/miniconda/base/envs/divergen/lib/python3.11/ast.py:1708\u001b[0m, in \u001b[0;36munparse\u001b[0;34m(ast_obj)\u001b[0m\n\u001b[1;32m   1706\u001b[0m \u001b[39mdef\u001b[39;00m \u001b[39munparse\u001b[39m(ast_obj):\n\u001b[1;32m   1707\u001b[0m     unparser \u001b[39m=\u001b[39m _Unparser()\n\u001b[0;32m-> 1708\u001b[0m     \u001b[39mreturn\u001b[39;00m unparser\u001b[39m.\u001b[39;49mvisit(ast_obj)\n",
      "File \u001b[0;32m/opt/homebrew/Caskroom/miniconda/base/envs/divergen/lib/python3.11/ast.py:818\u001b[0m, in \u001b[0;36m_Unparser.visit\u001b[0;34m(self, node)\u001b[0m\n\u001b[1;32m    815\u001b[0m \u001b[39m\u001b[39m\u001b[39m\"\"\"Outputs a source code string that, if converted back to an ast\u001b[39;00m\n\u001b[1;32m    816\u001b[0m \u001b[39m(using ast.parse) will generate an AST equivalent to *node*\"\"\"\u001b[39;00m\n\u001b[1;32m    817\u001b[0m \u001b[39mself\u001b[39m\u001b[39m.\u001b[39m_source \u001b[39m=\u001b[39m []\n\u001b[0;32m--> 818\u001b[0m \u001b[39mself\u001b[39;49m\u001b[39m.\u001b[39;49mtraverse(node)\n\u001b[1;32m    819\u001b[0m \u001b[39mreturn\u001b[39;00m \u001b[39m\"\u001b[39m\u001b[39m\"\u001b[39m\u001b[39m.\u001b[39mjoin(\u001b[39mself\u001b[39m\u001b[39m.\u001b[39m_source)\n",
      "File \u001b[0;32m/opt/homebrew/Caskroom/miniconda/base/envs/divergen/lib/python3.11/ast.py:809\u001b[0m, in \u001b[0;36m_Unparser.traverse\u001b[0;34m(self, node)\u001b[0m\n\u001b[1;32m    807\u001b[0m         \u001b[39mself\u001b[39m\u001b[39m.\u001b[39mtraverse(item)\n\u001b[1;32m    808\u001b[0m \u001b[39melse\u001b[39;00m:\n\u001b[0;32m--> 809\u001b[0m     \u001b[39msuper\u001b[39;49m()\u001b[39m.\u001b[39;49mvisit(node)\n",
      "File \u001b[0;32m/opt/homebrew/Caskroom/miniconda/base/envs/divergen/lib/python3.11/ast.py:418\u001b[0m, in \u001b[0;36mNodeVisitor.visit\u001b[0;34m(self, node)\u001b[0m\n\u001b[1;32m    416\u001b[0m method \u001b[39m=\u001b[39m \u001b[39m'\u001b[39m\u001b[39mvisit_\u001b[39m\u001b[39m'\u001b[39m \u001b[39m+\u001b[39m node\u001b[39m.\u001b[39m\u001b[39m__class__\u001b[39m\u001b[39m.\u001b[39m\u001b[39m__name__\u001b[39m\n\u001b[1;32m    417\u001b[0m visitor \u001b[39m=\u001b[39m \u001b[39mgetattr\u001b[39m(\u001b[39mself\u001b[39m, method, \u001b[39mself\u001b[39m\u001b[39m.\u001b[39mgeneric_visit)\n\u001b[0;32m--> 418\u001b[0m \u001b[39mreturn\u001b[39;00m visitor(node)\n",
      "File \u001b[0;32m/opt/homebrew/Caskroom/miniconda/base/envs/divergen/lib/python3.11/ast.py:422\u001b[0m, in \u001b[0;36mNodeVisitor.generic_visit\u001b[0;34m(self, node)\u001b[0m\n\u001b[1;32m    420\u001b[0m \u001b[39mdef\u001b[39;00m \u001b[39mgeneric_visit\u001b[39m(\u001b[39mself\u001b[39m, node):\n\u001b[1;32m    421\u001b[0m \u001b[39m    \u001b[39m\u001b[39m\"\"\"Called if no explicit visitor function exists for a node.\"\"\"\u001b[39;00m\n\u001b[0;32m--> 422\u001b[0m     \u001b[39mfor\u001b[39;00m field, value \u001b[39min\u001b[39;00m iter_fields(node):\n\u001b[1;32m    423\u001b[0m         \u001b[39mif\u001b[39;00m \u001b[39misinstance\u001b[39m(value, \u001b[39mlist\u001b[39m):\n\u001b[1;32m    424\u001b[0m             \u001b[39mfor\u001b[39;00m item \u001b[39min\u001b[39;00m value:\n",
      "File \u001b[0;32m/opt/homebrew/Caskroom/miniconda/base/envs/divergen/lib/python3.11/ast.py:260\u001b[0m, in \u001b[0;36miter_fields\u001b[0;34m(node)\u001b[0m\n\u001b[1;32m    255\u001b[0m \u001b[39mdef\u001b[39;00m \u001b[39miter_fields\u001b[39m(node):\n\u001b[1;32m    256\u001b[0m \u001b[39m    \u001b[39m\u001b[39m\"\"\"\u001b[39;00m\n\u001b[1;32m    257\u001b[0m \u001b[39m    Yield a tuple of ``(fieldname, value)`` for each field in ``node._fields``\u001b[39;00m\n\u001b[1;32m    258\u001b[0m \u001b[39m    that is present on *node*.\u001b[39;00m\n\u001b[1;32m    259\u001b[0m \u001b[39m    \"\"\"\u001b[39;00m\n\u001b[0;32m--> 260\u001b[0m     \u001b[39mfor\u001b[39;00m field \u001b[39min\u001b[39;00m node\u001b[39m.\u001b[39;49m_fields:\n\u001b[1;32m    261\u001b[0m         \u001b[39mtry\u001b[39;00m:\n\u001b[1;32m    262\u001b[0m             \u001b[39myield\u001b[39;00m field, \u001b[39mgetattr\u001b[39m(node, field)\n",
      "\u001b[0;31mAttributeError\u001b[0m: 'str' object has no attribute '_fields'"
     ]
    }
   ],
   "source": [
    "ast.parse()\n",
    "module.\n"
   ]
  }
 ],
 "metadata": {
  "kernelspec": {
   "display_name": "base",
   "language": "python",
   "name": "python3"
  },
  "language_info": {
   "codemirror_mode": {
    "name": "ipython",
    "version": 3
   },
   "file_extension": ".py",
   "mimetype": "text/x-python",
   "name": "python",
   "nbconvert_exporter": "python",
   "pygments_lexer": "ipython3",
   "version": "3.11.4"
  },
  "orig_nbformat": 4
 },
 "nbformat": 4,
 "nbformat_minor": 2
}
