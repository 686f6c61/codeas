{
 "cells": [
  {
   "cell_type": "code",
   "execution_count": 22,
   "metadata": {},
   "outputs": [],
   "source": [
    "from langchain.chat_models.fake import FakeListChatModel, FakeMessagesListChatModel\n",
    "from langchain.schema import HumanMessage, AIMessage"
   ]
  },
  {
   "cell_type": "code",
   "execution_count": 36,
   "metadata": {},
   "outputs": [],
   "source": [
    "from langchain.prompts import load_prompt"
   ]
  },
  {
   "cell_type": "code",
   "execution_count": 43,
   "metadata": {},
   "outputs": [],
   "source": [
    "prompt = load_prompt(\"../assets/prompt-library/generate-docstring.yaml\")"
   ]
  },
  {
   "cell_type": "code",
   "execution_count": 45,
   "metadata": {},
   "outputs": [
    {
     "name": "stdout",
     "output_type": "stream",
     "text": [
      "Create a docstring for the following code: \n",
      "a function\n"
     ]
    }
   ],
   "source": [
    "print(prompt.format(code=\"a function\"))"
   ]
  },
  {
   "cell_type": "code",
   "execution_count": 24,
   "metadata": {},
   "outputs": [
    {
     "data": {
      "text/plain": [
       "AIMessage(content='answer', additional_kwargs={}, example=False)"
      ]
     },
     "execution_count": 24,
     "metadata": {},
     "output_type": "execute_result"
    }
   ],
   "source": [
    "AIMessage(content=\"answer\")"
   ]
  },
  {
   "cell_type": "code",
   "execution_count": 35,
   "metadata": {},
   "outputs": [
    {
     "data": {
      "text/plain": [
       "'answer'"
      ]
     },
     "execution_count": 35,
     "metadata": {},
     "output_type": "execute_result"
    }
   ],
   "source": [
    "responses = [AIMessage(content=\"answer\")]\n",
    "chat = FakeMessagesListChatModel(responses=responses)\n",
    "chat(messages=[HumanMessage(content=\"test\")]).content"
   ]
  },
  {
   "cell_type": "code",
   "execution_count": 1,
   "metadata": {},
   "outputs": [],
   "source": [
    "%reload_ext autoreload\n",
    "%autoreload 2"
   ]
  },
  {
   "cell_type": "code",
   "execution_count": 11,
   "metadata": {},
   "outputs": [],
   "source": [
    "from divergen.codebase_manager import CodebaseManager\n",
    "\n",
    "code_manager = CodebaseManager(source_dir=\"../src\")\n",
    "entities = code_manager.get_entities()"
   ]
  },
  {
   "cell_type": "code",
   "execution_count": 24,
   "metadata": {},
   "outputs": [],
   "source": [
    "from pydantic import BaseModel\n",
    "from typing import Optional\n",
    "class A(BaseModel):\n",
    "    a: Optional[int]"
   ]
  },
  {
   "cell_type": "code",
   "execution_count": 11,
   "metadata": {},
   "outputs": [
    {
     "data": {
      "text/plain": [
       "['../src/__init__.py', '../src/divergen']"
      ]
     },
     "execution_count": 11,
     "metadata": {},
     "output_type": "execute_result"
    }
   ],
   "source": [
    "import glob\n",
    "import os\n",
    "glob.glob(os.path.join(\"../src/\",\"*\"))"
   ]
  },
  {
   "cell_type": "code",
   "execution_count": 5,
   "metadata": {},
   "outputs": [],
   "source": [
    "import ast\n",
    "# ast.parse()\n",
    "\n",
    "with open(\"../src/divergen/codebase_manager/codebase_manager.py\") as source:\n",
    "    module = ast.parse(source.read())"
   ]
  },
  {
   "cell_type": "code",
   "execution_count": 15,
   "metadata": {},
   "outputs": [],
   "source": [
    "class_code = ast.unparse(entities['CodebaseManager'])"
   ]
  },
  {
   "cell_type": "code",
   "execution_count": 7,
   "metadata": {},
   "outputs": [],
   "source": [
    "module_code = ast.unparse(module)"
   ]
  },
  {
   "cell_type": "code",
   "execution_count": 19,
   "metadata": {},
   "outputs": [],
   "source": [
    "new_module_code = module_code.replace(class_code, model_output)"
   ]
  },
  {
   "cell_type": "code",
   "execution_count": null,
   "metadata": {},
   "outputs": [],
   "source": [
    "new_module_code"
   ]
  },
  {
   "cell_type": "code",
   "execution_count": 8,
   "metadata": {},
   "outputs": [],
   "source": [
    "with open(\"../output.txt\") as output:\n",
    "    model_output = output.read()"
   ]
  },
  {
   "cell_type": "code",
   "execution_count": 20,
   "metadata": {},
   "outputs": [],
   "source": [
    "with open(\"../test_new.py\", 'w') as py_file:\n",
    "    py_file.write(new_module_code)"
   ]
  },
  {
   "cell_type": "code",
   "execution_count": 9,
   "metadata": {},
   "outputs": [
    {
     "data": {
      "text/plain": [
       "'class CodebaseManager(BaseModel):\\n    \"\"\"\\n    A class for managing a codebase.\\n\\n    Parameters\\n    ----------\\n    source_dir : str\\n        The directory containing the source code.\\n\\n    Attributes\\n    ----------\\n    _codebase : Dict[str, ModuleParser]\\n        A dictionary containing the parsed modules of the codebase.\\n\\n    Methods\\n    -------\\n    model_post_init(__context)\\n        Initializes the codebase manager and parses the codebase.\\n\\n    get_entities()\\n        Returns a dictionary of all the entities (classes and functions) in the codebase.\\n\\n    get_source_code(entity)\\n        Returns the source code of the given entity.\\n\\n    get_docstrings(entity)\\n        Returns the docstring of the given entity.\\n\\n    _parse_codebase(source_dir)\\n        Parses the codebase and stores the parsed modules in the _codebase attribute.\\n\\n    _get_python_file_paths(path)\\n        Returns a list of file paths for all Python files in the given directory.\\n\\n    _parse_python_files(file_paths)\\n        Parses the Python files and stores the parsed modules in the _codebase attribute.\\n    \"\"\"\\n    source_dir: str\\n    _codebase: Dict[str, ModuleParser] = PrivateAttr(default_factory=dict)\\n\\n    def model_post_init(self, __context):\\n        \"\"\"\\n        Initializes the codebase manager and parses the codebase.\\n\\n        Parameters\\n        ----------\\n        __context : Any\\n            The context of the model.\\n\\n        Returns\\n        -------\\n        None\\n        \"\"\"\\n        self._parse_codebase(self.source_dir)\\n\\n    def get_entities(self):\\n        \"\"\"\\n        Returns a dictionary of all the entities (classes and functions) in the codebase.\\n\\n        Returns\\n        -------\\n        entities : dict\\n            A dictionary of all the entities in the codebase.\\n        \"\"\"\\n        entities = {}\\n        for module_entities in self._codebase.values():\\n            entities.update(module_entities.classes.items())\\n            entities.update(module_entities.functions.items())\\n        return entities\\n\\n    def get_source_code(self, entity):\\n        \"\"\"\\n        Returns the source code of the given entity.\\n\\n        Parameters\\n        ----------\\n        entity : Any\\n            The entity for which to retrieve the source code.\\n\\n        Returns\\n        -------\\n        source_code : str\\n            The source code of the entity.\\n        \"\"\"\\n        return ast.unparse(entity)\\n\\n    def get_docstrings(self, entity):\\n        \"\"\"\\n        Returns the docstring of the given entity.\\n\\n        Parameters\\n        ----------\\n        entity : Any\\n            The entity for which to retrieve the docstring.\\n\\n        Returns\\n        -------\\n        docstring : str or None\\n            The docstring of the entity.\\n        \"\"\"\\n        return ast.get_docstring(entity)\\n\\n    def _parse_codebase(self, source_dir):\\n        \"\"\"\\n        Parses the codebase and stores the parsed modules in the _codebase attribute.\\n\\n        Parameters\\n        ----------\\n        source_dir : str\\n            The directory containing the source code.\\n\\n        Returns\\n        -------\\n        None\\n        \"\"\"\\n        file_paths = self._get_python_file_paths(source_dir)\\n        self._parse_python_files(file_paths)\\n\\n    def _get_python_file_paths(self, path):\\n        \"\"\"\\n        Returns a list of file paths for all Python files in the given directory.\\n\\n        Parameters\\n        ----------\\n        path : str\\n            The directory path.\\n\\n        Returns\\n        -------\\n        file_paths : list\\n            A list of file paths for all Python files in the directory.\\n        \"\"\"\\n        return [pyfile for pyfile in glob.glob(f\\'{path}/**/*.py\\', recursive=True) if os.path.split(pyfile)[-1] != \\'__init__.py\\']\\n\\n    def _parse_python_files(self, file_paths):\\n        \"\"\"\\n        Parses the Python files and stores the parsed modules in the _codebase attribute.\\n\\n        Parameters\\n        ----------\\n        file_paths : list\\n            A list of file paths for the Python files to parse.\\n\\n        Returns\\n        -------\\n        None\\n        \"\"\"\\n        for file_path in file_paths:\\n            parser = ModuleParser()\\n            with open(file_path) as source:\\n                parser.visit(ast.parse(source.read()))\\n            self._codebase[file_path] = parser'"
      ]
     },
     "execution_count": 9,
     "metadata": {},
     "output_type": "execute_result"
    }
   ],
   "source": [
    "model_output"
   ]
  },
  {
   "cell_type": "code",
   "execution_count": 43,
   "metadata": {},
   "outputs": [],
   "source": [
    "from divergen.codebase_assistant import CodebaseAssistant\n",
    "\n",
    "code_assist = CodebaseAssistant(\n",
    "    code_manager={\"source_dir\":\"../src/\"}\n",
    ")"
   ]
  },
  {
   "cell_type": "code",
   "execution_count": 3,
   "metadata": {},
   "outputs": [],
   "source": [
    "from langchain.llms import OpenAI\n",
    "\n",
    "llm = OpenAI()\n"
   ]
  },
  {
   "cell_type": "code",
   "execution_count": 4,
   "metadata": {},
   "outputs": [
    {
     "data": {
      "text/plain": [
       "'\\n\\nQ: How do you make holy water?\\nA: You boil the hell out of it.'"
      ]
     },
     "execution_count": 4,
     "metadata": {},
     "output_type": "execute_result"
    }
   ],
   "source": [
    "llm(\"Tell me a joke\")"
   ]
  },
  {
   "cell_type": "code",
   "execution_count": null,
   "metadata": {},
   "outputs": [],
   "source": []
  }
 ],
 "metadata": {
  "kernelspec": {
   "display_name": "base",
   "language": "python",
   "name": "python3"
  },
  "language_info": {
   "codemirror_mode": {
    "name": "ipython",
    "version": 3
   },
   "file_extension": ".py",
   "mimetype": "text/x-python",
   "name": "python",
   "nbconvert_exporter": "python",
   "pygments_lexer": "ipython3",
   "version": "3.11.4"
  },
  "orig_nbformat": 4
 },
 "nbformat": 4,
 "nbformat_minor": 2
}
