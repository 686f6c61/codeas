{
 "cells": [
  {
   "cell_type": "code",
   "execution_count": null,
   "metadata": {},
   "outputs": [],
   "source": [
    "import base64\n",
    "import os\n",
    "with open(\"../secrets.json\") as secrets:\n",
    "    secrets_dict = eval(secrets.read())\n",
    "    open_api_key = base64.b64decode(secrets_dict[\"openai_api_key\"]).decode('ascii')\n",
    "    os.environ[\"OPENAI_API_KEY\"] = open_api_key\n",
    "    if \"organization_id\" in secrets_dict.keys():\n",
    "        openai_organization = base64.b64decode(secrets_dict[\"organization_id\"]).decode('ascii')\n",
    "        os.environ[\"OPENAI_ORGANIZATION\"] = openai_organization\n",
    "del open_api_key, openai_organization, secrets_dict"
   ]
  },
  {
   "cell_type": "markdown",
   "metadata": {},
   "source": [
    "# Codeas x Tree Sitter"
   ]
  },
  {
   "cell_type": "code",
   "execution_count": null,
   "metadata": {},
   "outputs": [],
   "source": [
    "# Run it just once\n",
    "# from tree_sitter import Language\n",
    "# Language.build_library(\n",
    "#   # Store the library in the `build` directory\n",
    "#   'build/tree-sitter-grammars.so',\n",
    "\n",
    "#   # Include one or more languages\n",
    "#   [\n",
    "#     '/Users/itortouch/GiTor/tree-sitter-python',\n",
    "#     '/Users/itortouch/GiTor/tree-sitter-javascript',\n",
    "#     '/Users/itortouch/GiTor/tree-sitter-java'\n",
    "#   ]\n",
    "# )"
   ]
  },
  {
   "cell_type": "code",
   "execution_count": null,
   "metadata": {},
   "outputs": [],
   "source": [
    "# os.chdir(\"../examples/java_repo_s\")\n",
    "# os.chdir(\"../examples/ml_repo_s\")\n",
    "os.chdir(\"../examples/js_repo_s\")"
   ]
  },
  {
   "cell_type": "code",
   "execution_count": null,
   "metadata": {},
   "outputs": [],
   "source": [
    "from codeas.assistant import Assistant\n",
    "codeas = Assistant()"
   ]
  },
  {
   "cell_type": "code",
   "execution_count": null,
   "metadata": {},
   "outputs": [],
   "source": [
    "if os.path.exists(\".codeas\"):\n",
    "    os.remove(\".codeas/assistant.yaml\")\n",
    "    os.remove(\".codeas/prompts.yaml\")\n",
    "    os.rmdir(\".codeas\")\n",
    "codeas.init_configs()\n",
    "codeas.model_post_init(None)"
   ]
  },
  {
   "cell_type": "code",
   "execution_count": null,
   "metadata": {},
   "outputs": [],
   "source": [
    "# TODO: Due to codeas.file_handler._target_files incremental adding and not eliminating values, we can only execute one prompt for each instance session. Need to restart for changing prompt. Review.\n",
    "# codeas.execute_prompt(instructions=\"Create java docs.\", modules=[\"StringUtil\"])\n",
    "# codeas.execute_prompt(instructions=\"Create docstrings.\", modules=[\"ml_pipeline\"])\n",
    "# codeas.execute_prompt(instructions=\"Create docstrings.\", modules=[\"ClassA\"])\n",
    "# codeas.execute_prompt(instructions=\"Create unit test.\", target=\"tests\", modules=[\"ClassA\"])\n",
    "codeas.execute_prompt(instructions=\"Create JS Docs in markdown.\", target=\"docs\", modules=[\"ClassA\"])"
   ]
  },
  {
   "cell_type": "code",
   "execution_count": null,
   "metadata": {},
   "outputs": [],
   "source": [
    "codeas.apply_changes()"
   ]
  },
  {
   "cell_type": "code",
   "execution_count": null,
   "metadata": {},
   "outputs": [],
   "source": [
    "codeas.revert_changes()"
   ]
  },
  {
   "cell_type": "code",
   "execution_count": null,
   "metadata": {},
   "outputs": [],
   "source": [
    "codeas.reject_changes()"
   ]
  },
  {
   "cell_type": "code",
   "execution_count": null,
   "metadata": {},
   "outputs": [],
   "source": []
  }
 ],
 "metadata": {
  "kernelspec": {
   "display_name": "divergen_dev",
   "language": "python",
   "name": "python3"
  },
  "language_info": {
   "codemirror_mode": {
    "name": "ipython",
    "version": 3
   },
   "file_extension": ".py",
   "mimetype": "text/x-python",
   "name": "python",
   "nbconvert_exporter": "python",
   "pygments_lexer": "ipython3",
   "version": "3.11.5"
  }
 },
 "nbformat": 4,
 "nbformat_minor": 2
}
