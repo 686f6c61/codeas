{
 "cells": [
  {
   "cell_type": "code",
   "execution_count": 2,
   "metadata": {},
   "outputs": [],
   "source": [
    "import base64\n",
    "import os"
   ]
  },
  {
   "cell_type": "code",
   "execution_count": 3,
   "metadata": {},
   "outputs": [],
   "source": [
    "from tree_sitter import Language, Parser"
   ]
  },
  {
   "cell_type": "code",
   "execution_count": 4,
   "metadata": {},
   "outputs": [],
   "source": [
    "from divergen.codebase import Codebase"
   ]
  },
  {
   "cell_type": "code",
   "execution_count": 53,
   "metadata": {},
   "outputs": [],
   "source": [
    "with open(\"../secrets.json\") as secrets:\n",
    "    secrets_dict = eval(secrets.read())\n",
    "    open_api_key = base64.b64decode(secrets_dict[\"openai_api_key\"]).decode('ascii')\n",
    "    os.environ[\"OPENAI_API_KEY\"] = open_api_key\n",
    "    if \"organization_id\" in secrets_dict.keys():\n",
    "        openai_organization = base64.b64decode(secrets_dict[\"organization_id\"]).decode('ascii')\n",
    "        os.environ[\"OPENAI_ORGANIZATION\"] = openai_organization\n",
    "del open_api_key, openai_organization, secrets_dict"
   ]
  },
  {
   "cell_type": "markdown",
   "metadata": {},
   "source": [
    "# Divergen Basic Use"
   ]
  },
  {
   "cell_type": "code",
   "execution_count": 11,
   "metadata": {},
   "outputs": [],
   "source": [
    "os.chdir(\"../examples/ml_repo_s\")"
   ]
  },
  {
   "cell_type": "code",
   "execution_count": 12,
   "metadata": {},
   "outputs": [],
   "source": [
    "codebase_test = Codebase()"
   ]
  },
  {
   "cell_type": "code",
   "execution_count": 13,
   "metadata": {},
   "outputs": [],
   "source": [
    "codebase_test.parse_modules()"
   ]
  },
  {
   "cell_type": "code",
   "execution_count": 17,
   "metadata": {},
   "outputs": [],
   "source": [
    "processing_class = codebase_test.get_modules()[0].get_entities()[0]"
   ]
  },
  {
   "cell_type": "code",
   "execution_count": 26,
   "metadata": {},
   "outputs": [
    {
     "data": {
      "text/plain": [
       "5"
      ]
     },
     "execution_count": 26,
     "metadata": {},
     "output_type": "execute_result"
    }
   ],
   "source": [
    "processing_class.body_idx"
   ]
  },
  {
   "cell_type": "code",
   "execution_count": 25,
   "metadata": {},
   "outputs": [
    {
     "data": {
      "text/plain": [
       "[<ast.Import at 0x1071e3ca0>,\n",
       " <ast.Import at 0x1071e3c40>,\n",
       " <ast.ImportFrom at 0x1071e3be0>,\n",
       " <ast.ImportFrom at 0x1071e3b80>,\n",
       " <ast.ImportFrom at 0x1071e3b20>,\n",
       " <ast.ClassDef at 0x1071e3a90>,\n",
       " <ast.ClassDef at 0x1071e16f0>,\n",
       " <ast.If at 0x1071eb070>]"
      ]
     },
     "execution_count": 25,
     "metadata": {},
     "output_type": "execute_result"
    }
   ],
   "source": [
    "processing_class.module.node.body"
   ]
  },
  {
   "cell_type": "code",
   "execution_count": 29,
   "metadata": {},
   "outputs": [
    {
     "data": {
      "text/plain": [
       "<ast.ClassDef at 0x1071e3a90>"
      ]
     },
     "execution_count": 29,
     "metadata": {},
     "output_type": "execute_result"
    }
   ],
   "source": [
    "processing_class.module.node.body[processing_class.body_idx]"
   ]
  },
  {
   "cell_type": "code",
   "execution_count": 43,
   "metadata": {},
   "outputs": [
    {
     "name": "stdout",
     "output_type": "stream",
     "text": [
      "import pandas as pd\n",
      "import pandas as pd\n",
      "from sklearn.model_selection import train_test_split\n",
      "from sklearn.ensemble import RandomForestClassifier\n",
      "from sklearn.metrics import accuracy_score, classification_report\n",
      "\n",
      "class ProcessingPipeline:\n",
      "\n",
      "    def __init__(self):\n",
      "        self.data = None\n",
      "\n",
      "    def load_data(self, file_path):\n",
      "        try:\n",
      "            self.data = pd.read_csv(file_path)\n",
      "            print('Data loaded successfully.')\n",
      "        except Exception as e:\n",
      "            print(f'Error loading data: {str(e)}')\n",
      "\n",
      "    def explore_data(self):\n",
      "        if self.data is not None:\n",
      "            print('Data Exploration:')\n",
      "            print(self.data.describe())\n",
      "        else:\n",
      "            print('No data loaded for exploration.')\n",
      "\n",
      "    def clean_data(self):\n",
      "        if self.data is not None:\n",
      "            print('Data Cleaning:')\n",
      "            self.data = self.data.drop_duplicates()\n",
      "            self.data = self.data.dropna()\n",
      "            print('Data cleaned.')\n",
      "        else:\n",
      "            print('No data loaded for cleaning.')\n",
      "\n",
      "    def filter_data(self, condition):\n",
      "        if self.data is not None:\n",
      "            print('Data Filtering:')\n",
      "            self.data = self.data[condition]\n",
      "            print('Data filtered.')\n",
      "        else:\n",
      "            print('No data loaded for filtering.')\n",
      "\n",
      "    def aggregate_data(self, group_by, aggregations):\n",
      "        if self.data is not None:\n",
      "            print('Data Aggregation:')\n",
      "            self.data = self.data.groupby(group_by).agg(aggregations)\n",
      "            print('Data aggregated.')\n",
      "        else:\n",
      "            print('No data loaded for aggregation.')\n",
      "\n",
      "    def export_data(self, output_path):\n",
      "        if self.data is not None:\n",
      "            try:\n",
      "                self.data.to_csv(output_path, index=False)\n",
      "                print('Data exported successfully.')\n",
      "            except Exception as e:\n",
      "                print(f'Error exporting data: {str(e)}')\n",
      "        else:\n",
      "            print('No data available for export.')\n",
      "\n",
      "class Predictor:\n",
      "\n",
      "    def __init__(self):\n",
      "        self.data = None\n",
      "        self.X = None\n",
      "        self.y = None\n",
      "        self.X_train = None\n",
      "        self.X_test = None\n",
      "        self.y_train = None\n",
      "        self.y_test = None\n",
      "        self.model = None\n",
      "\n",
      "    def load_data(self, file_path):\n",
      "        try:\n",
      "            self.data = pd.read_csv(file_path)\n",
      "            print('Data loaded successfully.')\n",
      "        except Exception as e:\n",
      "            print(f'Error loading data: {str(e)}')\n",
      "\n",
      "    def feature_engineering(self, target_column, drop_columns=None):\n",
      "        if drop_columns:\n",
      "            self.data = self.data.drop(drop_columns, axis=1)\n",
      "        self.X = self.data.drop(target_column, axis=1)\n",
      "        self.y = self.data[target_column]\n",
      "\n",
      "    def train_test_split(self, test_size=0.2, random_state=42):\n",
      "        self.X_train, self.X_test, self.y_train, self.y_test = train_test_split(self.X, self.y, test_size=test_size, random_state=random_state)\n",
      "\n",
      "    def train_model(self, model_class=RandomForestClassifier, **model_params):\n",
      "        self.model = model_class(**model_params)\n",
      "        self.model.fit(self.X_train, self.y_train)\n",
      "\n",
      "    def evaluate_model(self):\n",
      "        if self.model:\n",
      "            y_pred = self.model.predict(self.X_test)\n",
      "            accuracy = accuracy_score(self.y_test, y_pred)\n",
      "            report = classification_report(self.y_test, y_pred)\n",
      "            return (accuracy, report)\n",
      "        else:\n",
      "            return 'Model has not been trained yet.'\n",
      "\n",
      "    def predict(self, input_data):\n",
      "        if self.model:\n",
      "            input_df = pd.DataFrame(input_data, index=[0])\n",
      "            prediction = self.model.predict(input_df)\n",
      "            return prediction\n",
      "        else:\n",
      "            return 'Model has not been trained yet.'\n",
      "if __name__ == '__main__':\n",
      "    pipeline = ProcessingPipeline()\n",
      "    pipeline.load_data('sample_data.csv')\n",
      "    pipeline.explore_data()\n",
      "    pipeline.clean_data()\n",
      "    pipeline.filter_data(condition=pipeline.data['column_name'] > 10)\n",
      "    pipeline.aggregate_data(group_by='group_column', aggregations={'value_column': 'mean'})\n",
      "    pipeline.export_data('output_data.csv')\n",
      "    predictor = Predictor()\n",
      "    predictor.load_data('sample_data.csv')\n",
      "    predictor.feature_engineering(target_column='target_column', drop_columns=['column_to_drop'])\n",
      "    predictor.train_test_split(test_size=0.2, random_state=42)\n",
      "    predictor.train_model(model_class=RandomForestClassifier, n_estimators=100)\n",
      "    accuracy, report = predictor.evaluate_model()\n",
      "    new_data = {'feature1': 'value1', 'feature2': 'value2'}\n",
      "    prediction = predictor.predict(new_data)\n"
     ]
    }
   ],
   "source": [
    "print(processing_class.module.code)"
   ]
  },
  {
   "cell_type": "code",
   "execution_count": 44,
   "metadata": {},
   "outputs": [],
   "source": [
    "processing_class.module.node.body = processing_class.module.node.body[1:]"
   ]
  },
  {
   "cell_type": "code",
   "execution_count": 47,
   "metadata": {},
   "outputs": [],
   "source": [
    "processing_class.module.merge_entities(\"code\")"
   ]
  },
  {
   "cell_type": "code",
   "execution_count": 111,
   "metadata": {},
   "outputs": [
    {
     "data": {
      "text/plain": [
       "'ml_pipeline'"
      ]
     },
     "execution_count": 111,
     "metadata": {},
     "output_type": "execute_result"
    }
   ],
   "source": [
    "processing_class.module.name"
   ]
  },
  {
   "cell_type": "code",
   "execution_count": 48,
   "metadata": {},
   "outputs": [
    {
     "name": "stdout",
     "output_type": "stream",
     "text": [
      "import pandas as pd\n",
      "from sklearn.model_selection import train_test_split\n",
      "from sklearn.ensemble import RandomForestClassifier\n",
      "from sklearn.metrics import accuracy_score, classification_report\n",
      "\n",
      "class ProcessingPipeline:\n",
      "\n",
      "    def __init__(self):\n",
      "        self.data = None\n",
      "\n",
      "    def load_data(self, file_path):\n",
      "        try:\n",
      "            self.data = pd.read_csv(file_path)\n",
      "            print('Data loaded successfully.')\n",
      "        except Exception as e:\n",
      "            print(f'Error loading data: {str(e)}')\n",
      "\n",
      "    def explore_data(self):\n",
      "        if self.data is not None:\n",
      "            print('Data Exploration:')\n",
      "            print(self.data.describe())\n",
      "        else:\n",
      "            print('No data loaded for exploration.')\n",
      "\n",
      "    def clean_data(self):\n",
      "        if self.data is not None:\n",
      "            print('Data Cleaning:')\n",
      "            self.data = self.data.drop_duplicates()\n",
      "            self.data = self.data.dropna()\n",
      "            print('Data cleaned.')\n",
      "        else:\n",
      "            print('No data loaded for cleaning.')\n",
      "\n",
      "    def filter_data(self, condition):\n",
      "        if self.data is not None:\n",
      "            print('Data Filtering:')\n",
      "            self.data = self.data[condition]\n",
      "            print('Data filtered.')\n",
      "        else:\n",
      "            print('No data loaded for filtering.')\n",
      "\n",
      "    def aggregate_data(self, group_by, aggregations):\n",
      "        if self.data is not None:\n",
      "            print('Data Aggregation:')\n",
      "            self.data = self.data.groupby(group_by).agg(aggregations)\n",
      "            print('Data aggregated.')\n",
      "        else:\n",
      "            print('No data loaded for aggregation.')\n",
      "\n",
      "    def export_data(self, output_path):\n",
      "        if self.data is not None:\n",
      "            try:\n",
      "                self.data.to_csv(output_path, index=False)\n",
      "                print('Data exported successfully.')\n",
      "            except Exception as e:\n",
      "                print(f'Error exporting data: {str(e)}')\n",
      "        else:\n",
      "            print('No data available for export.')\n",
      "\n",
      "class Predictor:\n",
      "\n",
      "    def __init__(self):\n",
      "        self.data = None\n",
      "        self.X = None\n",
      "        self.y = None\n",
      "        self.X_train = None\n",
      "        self.X_test = None\n",
      "        self.y_train = None\n",
      "        self.y_test = None\n",
      "        self.model = None\n",
      "\n",
      "    def load_data(self, file_path):\n",
      "        try:\n",
      "            self.data = pd.read_csv(file_path)\n",
      "            print('Data loaded successfully.')\n",
      "        except Exception as e:\n",
      "            print(f'Error loading data: {str(e)}')\n",
      "\n",
      "    def feature_engineering(self, target_column, drop_columns=None):\n",
      "        if drop_columns:\n",
      "            self.data = self.data.drop(drop_columns, axis=1)\n",
      "        self.X = self.data.drop(target_column, axis=1)\n",
      "        self.y = self.data[target_column]\n",
      "\n",
      "    def train_test_split(self, test_size=0.2, random_state=42):\n",
      "        self.X_train, self.X_test, self.y_train, self.y_test = train_test_split(self.X, self.y, test_size=test_size, random_state=random_state)\n",
      "\n",
      "    def train_model(self, model_class=RandomForestClassifier, **model_params):\n",
      "        self.model = model_class(**model_params)\n",
      "        self.model.fit(self.X_train, self.y_train)\n",
      "\n",
      "    def evaluate_model(self):\n",
      "        if self.model:\n",
      "            y_pred = self.model.predict(self.X_test)\n",
      "            accuracy = accuracy_score(self.y_test, y_pred)\n",
      "            report = classification_report(self.y_test, y_pred)\n",
      "            return (accuracy, report)\n",
      "        else:\n",
      "            return 'Model has not been trained yet.'\n",
      "\n",
      "    def predict(self, input_data):\n",
      "        if self.model:\n",
      "            input_df = pd.DataFrame(input_data, index=[0])\n",
      "            prediction = self.model.predict(input_df)\n",
      "            return prediction\n",
      "        else:\n",
      "            return 'Model has not been trained yet.'\n",
      "if __name__ == '__main__':\n",
      "    pipeline = ProcessingPipeline()\n",
      "    pipeline.load_data('sample_data.csv')\n",
      "    pipeline.explore_data()\n",
      "    pipeline.clean_data()\n",
      "    pipeline.filter_data(condition=pipeline.data['column_name'] > 10)\n",
      "    pipeline.aggregate_data(group_by='group_column', aggregations={'value_column': 'mean'})\n",
      "    pipeline.export_data('output_data.csv')\n",
      "    predictor = Predictor()\n",
      "    predictor.load_data('sample_data.csv')\n",
      "    predictor.feature_engineering(target_column='target_column', drop_columns=['column_to_drop'])\n",
      "    predictor.train_test_split(test_size=0.2, random_state=42)\n",
      "    predictor.train_model(model_class=RandomForestClassifier, n_estimators=100)\n",
      "    accuracy, report = predictor.evaluate_model()\n",
      "    new_data = {'feature1': 'value1', 'feature2': 'value2'}\n",
      "    prediction = predictor.predict(new_data)\n"
     ]
    }
   ],
   "source": [
    "print(processing_class.module.code)"
   ]
  },
  {
   "cell_type": "markdown",
   "metadata": {},
   "source": [
    "# Tree Sitter"
   ]
  },
  {
   "cell_type": "markdown",
   "metadata": {},
   "source": [
    "## Divergen like"
   ]
  },
  {
   "cell_type": "code",
   "execution_count": 55,
   "metadata": {},
   "outputs": [],
   "source": [
    "os.chdir(\"../../notebooks/\")"
   ]
  },
  {
   "cell_type": "code",
   "execution_count": 4,
   "metadata": {},
   "outputs": [],
   "source": [
    "# Run it just once\n",
    "# Language.build_library(\n",
    "#   # Store the library in the `build` directory\n",
    "#   'build/my-languages.so',\n",
    "\n",
    "#   # Include one or more languages\n",
    "#   [\n",
    "#     '/Users/itortouch/GiTor/tree-sitter-java'\n",
    "#   ]\n",
    "# )"
   ]
  },
  {
   "cell_type": "code",
   "execution_count": 142,
   "metadata": {},
   "outputs": [],
   "source": [
    "class ts_BaseEntity:\n",
    "    def __init__(self, node, parser, code: str = \"\", modified: bool = False) -> None:\n",
    "        self.node = node\n",
    "        self.parser = parser\n",
    "        self.code = code\n",
    "        self.modified = modified\n",
    "\n",
    "    def get(self, attr):\n",
    "        return getattr(self, attr)\n",
    "\n",
    "    def modify(self, attr, value):\n",
    "        setattr(self, attr, value)\n",
    "        self.modified = True\n",
    "        if attr == \"code\":\n",
    "            self.update_node(value)\n",
    "\n",
    "    def update_node(self, code: str):\n",
    "        if isinstance(self, ts_Module):\n",
    "            node = self.parser.parse(bytes(code, \"utf8\")).root_node\n",
    "            self.node = node\n",
    "            self.set_code()\n",
    "        elif isinstance(self, ts_Entity):\n",
    "            # TODO: With this node update all start/end bytes references breaks. Review.\n",
    "            node = self.parser.parse(bytes(code, \"utf8\")).root_node\n",
    "            self.node = node\n",
    "            self.update_module_node()\n",
    "\n",
    "    def set_code(self):\n",
    "        self.code = self.text.decode()\n",
    "\n",
    "\n",
    "class ts_Entity(ts_BaseEntity):\n",
    "    def __init__(\n",
    "        self,\n",
    "        node,\n",
    "        parser,\n",
    "        module,\n",
    "        body_idx,\n",
    "    ) -> None:\n",
    "        super().__init__(node, parser, node.text.decode())\n",
    "        self.module = module\n",
    "        self.body_idx = body_idx\n",
    "        # self.node = node\n",
    "        # self.code = node.text.decode()\n",
    "\n",
    "    # def model_post_init(self, __context: Any) -> None:\n",
    "    #     self.set_code()\n",
    "\n",
    "    def update_module_node(self):\n",
    "        self.module.body[self.body_idx] = self.node\n",
    "        # TODO: Due to recursive call at modify an entity we're updating module code. Review.\n",
    "        self.module.merge_entities()\n",
    "\n",
    "\n",
    "class ts_Module(ts_BaseEntity):\n",
    "    def __init__(self, name: str, node, parser) -> None:\n",
    "        super().__init__(node, parser, node.text.decode())\n",
    "        self.name = name\n",
    "        # self.node = node\n",
    "        # self.code = node.text.decode()\n",
    "        self.body = [child for child in node.children]\n",
    "        self._entities: list[ts_Entity] = []\n",
    "\n",
    "    def parse_entities(self):\n",
    "        for idx, node in enumerate(self.body):\n",
    "            if node.type in [\n",
    "                \"package_declaration\",\n",
    "                \"line_comment\",\n",
    "                \"class_declaration\",\n",
    "                \"block_comment\",\n",
    "                \"class_declaration\",\n",
    "            ]:\n",
    "                self._entities.append(\n",
    "                    ts_Entity(node=node, parser=self.parser, module=self, body_idx=idx)\n",
    "                )\n",
    "\n",
    "    def merge_entities(self):\n",
    "        self.code = \"\\n\".join([child.text.decode() for child in self.body])\n",
    "\n",
    "\n",
    "class ts_Codebase:\n",
    "    def __init__(self) -> None:\n",
    "        JAVA_LANGUAGE = Language(\"build/my-languages.so\", \"java\")\n",
    "        self.parser = Parser()\n",
    "        self.parser.set_language(JAVA_LANGUAGE)\n",
    "        self._modules: list[ts_Module] = []\n",
    "\n",
    "    def parse_module(self, dir_path: str, module_name: str, verbose: bool = False):\n",
    "        module_path = os.path.join(dir_path, module_name)\n",
    "        with open(module_path, \"r\") as file:\n",
    "            code = file.read()\n",
    "\n",
    "        tree = self.parser.parse(bytes(code, \"utf8\"))\n",
    "        module = ts_Module(\n",
    "            name=module_name.strip(\".java\"), node=tree.root_node, parser=self.parser\n",
    "        )\n",
    "        module.parse_entities()\n",
    "\n",
    "        return module\n",
    "\n",
    "    def parse_modules(self, codebase, verbose=False):\n",
    "        for dirpath, _, files in os.walk(codebase):\n",
    "            for filename in files:\n",
    "                if filename.endswith(\".java\"):\n",
    "                    if verbose:\n",
    "                        print(f\"**** PARSING {filename} ****\")\n",
    "                    self._modules.append(self.parse_module(dirpath, filename))"
   ]
  },
  {
   "cell_type": "code",
   "execution_count": 136,
   "metadata": {},
   "outputs": [],
   "source": [
    "# JAVA_LANGUAGE = Language(\"build/my-languages.so\", \"java\")\n",
    "# parser = Parser()\n",
    "# parser.set_language(JAVA_LANGUAGE)"
   ]
  },
  {
   "cell_type": "code",
   "execution_count": 143,
   "metadata": {},
   "outputs": [],
   "source": [
    "# Provide the path to the directory\n",
    "codebase_path = '../examples/java_repo_s/src/'\n",
    "codebase_modules = ts_Codebase()\n",
    "codebase_modules.parse_modules(codebase_path)"
   ]
  },
  {
   "cell_type": "code",
   "execution_count": 144,
   "metadata": {},
   "outputs": [
    {
     "data": {
      "text/plain": [
       "['MainApplication', 'StringUtil', 'UserEntity']"
      ]
     },
     "execution_count": 144,
     "metadata": {},
     "output_type": "execute_result"
    }
   ],
   "source": [
    "[m.name for m in codebase_modules._modules]"
   ]
  },
  {
   "cell_type": "code",
   "execution_count": 146,
   "metadata": {},
   "outputs": [
    {
     "name": "stdout",
     "output_type": "stream",
     "text": [
      "package com.example.module;\n",
      "\n",
      "// Random inline comment\n",
      "public class UserEntity {\n",
      "    private String name;\n",
      "    private int age;\n",
      "\n",
      "    public UserEntity(String name, int age) {\n",
      "        this.name = name;\n",
      "        this.age = age;\n",
      "    }\n",
      "\n",
      "    public String getName() {\n",
      "        return name;\n",
      "    }\n",
      "\n",
      "    public int getAge() {\n",
      "        return age;\n",
      "    }\n",
      "}\n",
      "\n",
      "/**\n",
      " * Test JavaDoc.\n",
      " */\n",
      "class AdminEntity extends UserEntity {\n",
      "    private boolean isAdmin;\n",
      "\n",
      "    public AdminEntity(String name, int age, boolean isAdmin) {\n",
      "        super(name, age);\n",
      "        this.isAdmin = isAdmin;\n",
      "    }\n",
      "\n",
      "    public boolean getIsAdmin(){\n",
      "        return this.isAdmin;\n",
      "    }\n",
      "}\n"
     ]
    }
   ],
   "source": [
    "print(codebase_modules._modules[2].code)"
   ]
  },
  {
   "cell_type": "code",
   "execution_count": 148,
   "metadata": {},
   "outputs": [
    {
     "name": "stdout",
     "output_type": "stream",
     "text": [
      "public class UserEntity {\n",
      "    private String name;\n",
      "    private int age;\n",
      "\n",
      "    public UserEntity(String name, int age) {\n",
      "        this.name = name;\n",
      "        this.age = age;\n",
      "    }\n",
      "\n",
      "    public String getName() {\n",
      "        return name;\n",
      "    }\n",
      "\n",
      "    public int getAge() {\n",
      "        return age;\n",
      "    }\n",
      "}\n"
     ]
    }
   ],
   "source": [
    "print(codebase_modules._modules[2]._entities[2].code)"
   ]
  },
  {
   "cell_type": "code",
   "execution_count": 149,
   "metadata": {},
   "outputs": [],
   "source": [
    "edited_entity = \"\"\"public class UserEntity {\n",
    "    private String name;\n",
    "    private int age;\n",
    "    // Test edit comment\n",
    "    public UserEntity(String name, int age) {\n",
    "        this.name = name;\n",
    "        this.age = age;\n",
    "    }\n",
    "\n",
    "    public String getName() {\n",
    "        return name;\n",
    "    }\n",
    "\n",
    "    public int getAge() {\n",
    "        return age;\n",
    "    }\n",
    "}\"\"\""
   ]
  },
  {
   "cell_type": "code",
   "execution_count": 150,
   "metadata": {},
   "outputs": [],
   "source": [
    "codebase_modules._modules[2]._entities[2].modify(\"code\", edited_entity)"
   ]
  },
  {
   "cell_type": "code",
   "execution_count": 151,
   "metadata": {},
   "outputs": [
    {
     "name": "stdout",
     "output_type": "stream",
     "text": [
      "public class UserEntity {\n",
      "    private String name;\n",
      "    private int age;\n",
      "    // Test edit comment\n",
      "    public UserEntity(String name, int age) {\n",
      "        this.name = name;\n",
      "        this.age = age;\n",
      "    }\n",
      "\n",
      "    public String getName() {\n",
      "        return name;\n",
      "    }\n",
      "\n",
      "    public int getAge() {\n",
      "        return age;\n",
      "    }\n",
      "}\n"
     ]
    }
   ],
   "source": [
    "print(codebase_modules._modules[2]._entities[2].code)"
   ]
  },
  {
   "cell_type": "code",
   "execution_count": 152,
   "metadata": {},
   "outputs": [
    {
     "name": "stdout",
     "output_type": "stream",
     "text": [
      "package com.example.module;\n",
      "// Random inline comment\n",
      "public class UserEntity {\n",
      "    private String name;\n",
      "    private int age;\n",
      "    // Test edit comment\n",
      "    public UserEntity(String name, int age) {\n",
      "        this.name = name;\n",
      "        this.age = age;\n",
      "    }\n",
      "\n",
      "    public String getName() {\n",
      "        return name;\n",
      "    }\n",
      "\n",
      "    public int getAge() {\n",
      "        return age;\n",
      "    }\n",
      "}\n",
      "/**\n",
      " * Test JavaDoc.\n",
      " */\n",
      "class AdminEntity extends UserEntity {\n",
      "    private boolean isAdmin;\n",
      "\n",
      "    public AdminEntity(String name, int age, boolean isAdmin) {\n",
      "        super(name, age);\n",
      "        this.isAdmin = isAdmin;\n",
      "    }\n",
      "\n",
      "    public boolean getIsAdmin(){\n",
      "        return this.isAdmin;\n",
      "    }\n",
      "}\n"
     ]
    }
   ],
   "source": [
    "print(codebase_modules._modules[2].code)"
   ]
  },
  {
   "cell_type": "code",
   "execution_count": null,
   "metadata": {},
   "outputs": [],
   "source": []
  },
  {
   "cell_type": "markdown",
   "metadata": {},
   "source": [
    "## Playing with ts_nodes"
   ]
  },
  {
   "cell_type": "code",
   "execution_count": 80,
   "metadata": {},
   "outputs": [],
   "source": [
    "def get_child_types(node):\n",
    "    return [child.type for child in node.children]\n",
    "def get_child_names(node):\n",
    "    return [node.field_name_for_child(i) for i in range(node.child_count)]\n",
    "def count_child_sons(node):\n",
    "    return [child.child_count for child in node.children]\n",
    "def get_child_codes(node):\n",
    "    return [child.text.decode() for child in node.children]"
   ]
  },
  {
   "cell_type": "code",
   "execution_count": 78,
   "metadata": {},
   "outputs": [
    {
     "name": "stdout",
     "output_type": "stream",
     "text": [
      "(program (package_declaration (scoped_identifier scope: (scoped_identifier scope: (identifier) name: (identifier)) name: (identifier))) (line_comment) (class_declaration (modifiers) name: (identifier) body: (class_body (field_declaration (modifiers) type: (type_identifier) declarator: (variable_declarator name: (identifier))) (field_declaration (modifiers) type: (integral_type) declarator: (variable_declarator name: (identifier))) (constructor_declaration (modifiers) name: (identifier) parameters: (formal_parameters (formal_parameter type: (type_identifier) name: (identifier)) (formal_parameter type: (integral_type) name: (identifier))) body: (constructor_body (expression_statement (assignment_expression left: (field_access object: (this) field: (identifier)) right: (identifier))) (expression_statement (assignment_expression left: (field_access object: (this) field: (identifier)) right: (identifier))))) (method_declaration (modifiers) type: (type_identifier) name: (identifier) parameters: (formal_parameters) body: (block (return_statement (identifier)))) (method_declaration (modifiers) type: (integral_type) name: (identifier) parameters: (formal_parameters) body: (block (return_statement (identifier)))))) (block_comment) (class_declaration name: (identifier) superclass: (superclass (type_identifier)) body: (class_body (field_declaration (modifiers) type: (boolean_type) declarator: (variable_declarator name: (identifier))) (constructor_declaration (modifiers) name: (identifier) parameters: (formal_parameters (formal_parameter type: (type_identifier) name: (identifier)) (formal_parameter type: (integral_type) name: (identifier)) (formal_parameter type: (boolean_type) name: (identifier))) body: (constructor_body (explicit_constructor_invocation constructor: (super) arguments: (argument_list (identifier) (identifier))) (expression_statement (assignment_expression left: (field_access object: (this) field: (identifier)) right: (identifier))))) (method_declaration (modifiers) type: (boolean_type) name: (identifier) parameters: (formal_parameters) body: (block (return_statement (field_access object: (this) field: (identifier))))))))\n"
     ]
    }
   ],
   "source": [
    "print(user_entity_node.sexp())"
   ]
  },
  {
   "cell_type": "code",
   "execution_count": 79,
   "metadata": {},
   "outputs": [
    {
     "name": "stdout",
     "output_type": "stream",
     "text": [
      "['package_declaration', 'line_comment', 'class_declaration', 'block_comment', 'class_declaration']\n",
      "[None, None, None, None, None]\n",
      "[3, 0, 4, 0, 4]\n"
     ]
    }
   ],
   "source": [
    "print(get_child_types(user_entity_node))\n",
    "print(get_child_names(user_entity_node))\n",
    "print(count_child_sons(user_entity_node))"
   ]
  },
  {
   "cell_type": "code",
   "execution_count": 86,
   "metadata": {},
   "outputs": [
    {
     "name": "stdout",
     "output_type": "stream",
     "text": [
      "package com.example.module;\n",
      "// Random inline comment\n",
      "public class UserEntity {\n",
      "    private String name;\n",
      "    private int age;\n",
      "\n",
      "    public UserEntity(String name, int age) {\n",
      "        this.name = name;\n",
      "        this.age = age;\n",
      "    }\n",
      "\n",
      "    public String getName() {\n",
      "        return name;\n",
      "    }\n",
      "\n",
      "    public int getAge() {\n",
      "        return age;\n",
      "    }\n",
      "}\n",
      "/**\n",
      " * Test JavaDoc.\n",
      " */\n",
      "class AdminEntity extends UserEntity {\n",
      "    private boolean isAdmin;\n",
      "\n",
      "    public AdminEntity(String name, int age, boolean isAdmin) {\n",
      "        super(name, age);\n",
      "        this.isAdmin = isAdmin;\n",
      "    }\n",
      "\n",
      "    public boolean getIsAdmin(){\n",
      "        return this.isAdmin;\n",
      "    }\n",
      "}\n"
     ]
    }
   ],
   "source": [
    "print(\"\\n\".join(get_child_codes(user_entity_node)))"
   ]
  },
  {
   "cell_type": "code",
   "execution_count": 87,
   "metadata": {},
   "outputs": [
    {
     "name": "stdout",
     "output_type": "stream",
     "text": [
      "package com.example.module;\n",
      "\n",
      "// Random inline comment\n",
      "public class UserEntity {\n",
      "    private String name;\n",
      "    private int age;\n",
      "\n",
      "    public UserEntity(String name, int age) {\n",
      "        this.name = name;\n",
      "        this.age = age;\n",
      "    }\n",
      "\n",
      "    public String getName() {\n",
      "        return name;\n",
      "    }\n",
      "\n",
      "    public int getAge() {\n",
      "        return age;\n",
      "    }\n",
      "}\n",
      "\n",
      "/**\n",
      " * Test JavaDoc.\n",
      " */\n",
      "class AdminEntity extends UserEntity {\n",
      "    private boolean isAdmin;\n",
      "\n",
      "    public AdminEntity(String name, int age, boolean isAdmin) {\n",
      "        super(name, age);\n",
      "        this.isAdmin = isAdmin;\n",
      "    }\n",
      "\n",
      "    public boolean getIsAdmin(){\n",
      "        return this.isAdmin;\n",
      "    }\n",
      "}\n"
     ]
    }
   ],
   "source": [
    "print(user_entity_node.text.decode())"
   ]
  },
  {
   "cell_type": "code",
   "execution_count": 93,
   "metadata": {},
   "outputs": [
    {
     "name": "stdout",
     "output_type": "stream",
     "text": [
      "['modifiers', 'class', 'identifier', 'class_body']\n",
      "[None, None, 'name', 'body']\n",
      "[1, 0, 0, 3]\n"
     ]
    }
   ],
   "source": [
    "print(get_child_types(root_node.child(3)))\n",
    "print(get_child_names(root_node.child(3)))\n",
    "print(count_child_sons(root_node.child(3)))"
   ]
  },
  {
   "cell_type": "code",
   "execution_count": 96,
   "metadata": {},
   "outputs": [
    {
     "name": "stdout",
     "output_type": "stream",
     "text": [
      "public class MainApplication {\n",
      "    public static void main(String[] args) {\n",
      "        UserEntity user = new UserEntity(\"John Doe\", 30);\n",
      "        StringUtil stringUtil = new StringUtil();\n",
      "        String message = stringUtil.capitalize(user.getName());\n",
      "\n",
      "        System.out.println(\"Hello, \" + message + \". You are \" + user.getAge() + \" years old.\");\n",
      "    }\n",
      "}\n"
     ]
    }
   ],
   "source": [
    "print(root_node.child(3).text.decode())"
   ]
  },
  {
   "cell_type": "code",
   "execution_count": 108,
   "metadata": {},
   "outputs": [
    {
     "data": {
      "text/plain": [
       "False"
      ]
     },
     "execution_count": 108,
     "metadata": {},
     "output_type": "execute_result"
    }
   ],
   "source": [
    "root_node.children[3].has_changes"
   ]
  },
  {
   "cell_type": "code",
   "execution_count": 106,
   "metadata": {},
   "outputs": [
    {
     "name": "stdout",
     "output_type": "stream",
     "text": [
      "{\n",
      "    public static void main(String[] args) {\n",
      "        UserEntity user = new UserEntity(\"John Doe\", 30);\n",
      "        StringUtil stringUtil = new StringUtil();\n",
      "        String message = stringUtil.capitalize(user.getName());\n",
      "\n",
      "        System.out.println(\"Hello, \" + message + \". You are \" + user.getAge() + \" years old.\");\n",
      "    }\n",
      "}\n"
     ]
    }
   ],
   "source": [
    "print(root_node.child(3).child(3).text.decode())"
   ]
  },
  {
   "cell_type": "code",
   "execution_count": 97,
   "metadata": {},
   "outputs": [
    {
     "name": "stdout",
     "output_type": "stream",
     "text": [
      "['{', 'method_declaration', '}']\n",
      "[None, None, None]\n",
      "[0, 5, 0]\n"
     ]
    }
   ],
   "source": [
    "print(get_child_types(root_node.child(3).child(3)))\n",
    "print(get_child_names(root_node.child(3).child(3)))\n",
    "print(count_child_sons(root_node.child(3).child(3)))"
   ]
  },
  {
   "cell_type": "code",
   "execution_count": 8,
   "metadata": {},
   "outputs": [
    {
     "data": {
      "text/plain": [
       "<Node type=identifier, start_point=(0, 13), end_point=(0, 20)>"
      ]
     },
     "execution_count": 8,
     "metadata": {},
     "output_type": "execute_result"
    }
   ],
   "source": [
    "class_name = root_node.children[0].child_by_field_name(\"name\")\n",
    "class_name"
   ]
  },
  {
   "cell_type": "code",
   "execution_count": null,
   "metadata": {},
   "outputs": [],
   "source": [
    "def process_node(node, code, replacement):\n",
    "    # Replace \"java\" by \"py\" in the start of the code for example\n",
    "    if node.type == 'identifier' and code[node.start_byte:node.end_byte] == b'java':\n",
    "        code[node.start_byte:node.end_byte] = bytes(replacement, 'utf-8')\n",
    "    for child in node.children:\n",
    "        process_node(child, code, replacement)\n",
    "\n",
    "def parse_file(file_path, replacement):\n",
    "    with open(file_path, 'r') as file:\n",
    "        code = file.read()\n",
    "\n",
    "    parser = Parser()\n",
    "    parser.set_language(JAVA_LANGUAGE)\n",
    "    tree = parser.parse(bytes(code, \"utf8\"))\n",
    "\n",
    "    process_node(tree.root_node, code, replacement)\n",
    "    return code"
   ]
  }
 ],
 "metadata": {
  "kernelspec": {
   "display_name": "divergen_dev",
   "language": "python",
   "name": "python3"
  },
  "language_info": {
   "codemirror_mode": {
    "name": "ipython",
    "version": 3
   },
   "file_extension": ".py",
   "mimetype": "text/x-python",
   "name": "python",
   "nbconvert_exporter": "python",
   "pygments_lexer": "ipython3",
   "version": "3.11.5"
  }
 },
 "nbformat": 4,
 "nbformat_minor": 2
}
