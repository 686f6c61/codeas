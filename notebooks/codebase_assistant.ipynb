{
 "cells": [
  {
   "cell_type": "code",
   "execution_count": 1,
   "metadata": {},
   "outputs": [],
   "source": [
    "import base64\n",
    "import os"
   ]
  },
  {
   "cell_type": "code",
   "execution_count": 2,
   "metadata": {},
   "outputs": [],
   "source": [
    "with open(\"../secrets.json\") as secrets:\n",
    "    secrets_dict = eval(secrets.read())\n",
    "    open_api_key = base64.b64decode(secrets_dict[\"openai_api_key\"]).decode('ascii')\n",
    "    os.environ[\"OPENAI_API_KEY\"] = open_api_key\n",
    "    if \"organization_id\" in secrets_dict.keys():\n",
    "        openai_organization = base64.b64decode(secrets_dict[\"organization_id\"]).decode('ascii')\n",
    "        os.environ[\"OPENAI_ORGANIZATION\"] = openai_organization\n",
    "del open_api_key, openai_organization, secrets_dict"
   ]
  },
  {
   "cell_type": "markdown",
   "metadata": {},
   "source": [
    "# Tree Sitter"
   ]
  },
  {
   "cell_type": "markdown",
   "metadata": {},
   "source": [
    "## Execute from module"
   ]
  },
  {
   "cell_type": "code",
   "execution_count": 3,
   "metadata": {},
   "outputs": [],
   "source": [
    "os.chdir(\"../examples/java_repo_s\")"
   ]
  },
  {
   "cell_type": "code",
   "execution_count": null,
   "metadata": {},
   "outputs": [],
   "source": [
    "# Run it just once\n",
    "# from tree_sitter import Language\n",
    "# Language.build_library(\n",
    "#   # Store the library in the `build` directory\n",
    "#   'build/my-languages.so',\n",
    "\n",
    "#   # Include one or more languages\n",
    "#   [\n",
    "#     '/Users/itortouch/GiTor/tree-sitter-java'\n",
    "#   ]\n",
    "# )"
   ]
  },
  {
   "cell_type": "code",
   "execution_count": 4,
   "metadata": {},
   "outputs": [],
   "source": [
    "from divergen.ts_codebase_assistant import CodebaseAssistant"
   ]
  },
  {
   "cell_type": "code",
   "execution_count": 6,
   "metadata": {},
   "outputs": [],
   "source": [
    "# TODO: Averiguar porque no se setea con el auto_format=False\n",
    "ts_ca = CodebaseAssistant(file_handler={\"auto_format\":False})"
   ]
  },
  {
   "cell_type": "code",
   "execution_count": 8,
   "metadata": {},
   "outputs": [
    {
     "name": "stderr",
     "output_type": "stream",
     "text": [
      "2023-10-25 11:24:46,236 - root - INFO - Executing prompt Create java docs.\n",
      "2023-10-25 11:24:46,238 - root - INFO - Prompt:\n",
      " \n",
      "You are a senior software engineer\n",
      "You will be given a request, some context to use for the request, and some guidelines to follow.\n",
      "\n",
      "\n",
      "Only return code. Do not include explanations outside of the code.\n",
      "\n",
      "\n",
      "REQUEST:\n",
      "Create java docs.\n",
      "\n",
      "CONTEXT:\n",
      "package com.example.utilities;\n",
      "\n",
      "public class StringUtil {\n",
      "    public String capitalize(String input) {\n",
      "        return input.substring(0, 1).toUpperCase() + input.substring(1);\n",
      "    }\n",
      "}\n",
      "\n",
      "GUIDELINES:\n",
      "None\n",
      "\n",
      "2023-10-25 11:24:46,238 - root - INFO - Model output: \n",
      "\n"
     ]
    },
    {
     "name": "stdout",
     "output_type": "stream",
     "text": [
      "/**\n",
      " * Class containing utility methods for string manipulation.\n",
      " */\n",
      "package com.example.utilities;\n",
      "\n",
      "public class StringUtil {\n",
      "\n",
      "    /**\n",
      "     * Capitalizes the first letter of a given string.\n",
      "     *\n",
      "     * @param input the string to be capitalized\n",
      "     * @return the input string with the first letter capitalized\n",
      "     */\n",
      "    public String capitalize(String input) {\n",
      "        return input.substring(0, 1).toUpperCase() + input.substring(1);\n",
      "    }\n",
      "}"
     ]
    }
   ],
   "source": [
    "ts_ca.execute_prompt(user_prompt=\"Create java docs.\", modules=[\"StringUtil\"])"
   ]
  },
  {
   "cell_type": "code",
   "execution_count": 9,
   "metadata": {},
   "outputs": [
    {
     "name": "stderr",
     "output_type": "stream",
     "text": [
      "2023-10-25 11:26:38,887 - root - INFO - Reverting changes\n"
     ]
    }
   ],
   "source": [
    "ts_ca.revert_changes()"
   ]
  }
 ],
 "metadata": {
  "kernelspec": {
   "display_name": "divergen_dev",
   "language": "python",
   "name": "python3"
  },
  "language_info": {
   "codemirror_mode": {
    "name": "ipython",
    "version": 3
   },
   "file_extension": ".py",
   "mimetype": "text/x-python",
   "name": "python",
   "nbconvert_exporter": "python",
   "pygments_lexer": "ipython3",
   "version": "3.11.5"
  }
 },
 "nbformat": 4,
 "nbformat_minor": 2
}
